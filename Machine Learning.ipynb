{
 "cells": [
  {
   "cell_type": "code",
   "execution_count": 1,
   "id": "6cf2f69a",
   "metadata": {},
   "outputs": [],
   "source": [
    "import pandas as pd \n",
    "import numpy as np\n",
    "import os\n",
    "import seaborn as sns\n",
    "import pandas as pd"
   ]
  },
  {
   "cell_type": "code",
   "execution_count": 2,
   "id": "8f2b52a1",
   "metadata": {},
   "outputs": [],
   "source": [
    "house = \"Resources/Final_rent_homevalue.csv\""
   ]
  },
  {
   "cell_type": "code",
   "execution_count": 3,
   "id": "af4c161f",
   "metadata": {},
   "outputs": [],
   "source": [
    "house = pd.read_csv(house, encoding = \"ISO-8859-1\")"
   ]
  },
  {
   "cell_type": "code",
   "execution_count": 4,
   "id": "28a5382f",
   "metadata": {},
   "outputs": [
    {
     "data": {
      "text/html": [
       "<div>\n",
       "<style scoped>\n",
       "    .dataframe tbody tr th:only-of-type {\n",
       "        vertical-align: middle;\n",
       "    }\n",
       "\n",
       "    .dataframe tbody tr th {\n",
       "        vertical-align: top;\n",
       "    }\n",
       "\n",
       "    .dataframe thead th {\n",
       "        text-align: right;\n",
       "    }\n",
       "</style>\n",
       "<table border=\"1\" class=\"dataframe\">\n",
       "  <thead>\n",
       "    <tr style=\"text-align: right;\">\n",
       "      <th></th>\n",
       "      <th>zipcode</th>\n",
       "      <th>primarycity</th>\n",
       "      <th>city</th>\n",
       "      <th>date</th>\n",
       "      <th>rent</th>\n",
       "      <th>latitude</th>\n",
       "      <th>longitude</th>\n",
       "      <th>county</th>\n",
       "      <th>year</th>\n",
       "      <th>month</th>\n",
       "      <th>homevalue</th>\n",
       "    </tr>\n",
       "  </thead>\n",
       "  <tbody>\n",
       "    <tr>\n",
       "      <th>0</th>\n",
       "      <td>91710</td>\n",
       "      <td>Chino</td>\n",
       "      <td>Riverside, CA</td>\n",
       "      <td>2014-01-01</td>\n",
       "      <td>$1,810.00</td>\n",
       "      <td>34.00</td>\n",
       "      <td>-117.68</td>\n",
       "      <td>San Bernardino County</td>\n",
       "      <td>2014</td>\n",
       "      <td>1</td>\n",
       "      <td>$393,085.00</td>\n",
       "    </tr>\n",
       "    <tr>\n",
       "      <th>1</th>\n",
       "      <td>28078</td>\n",
       "      <td>Huntersville</td>\n",
       "      <td>Charlotte, NC</td>\n",
       "      <td>2014-01-01</td>\n",
       "      <td>$1,205.00</td>\n",
       "      <td>35.41</td>\n",
       "      <td>-80.84</td>\n",
       "      <td>Mecklenburg County</td>\n",
       "      <td>2014</td>\n",
       "      <td>1</td>\n",
       "      <td>$252,566.00</td>\n",
       "    </tr>\n",
       "    <tr>\n",
       "      <th>2</th>\n",
       "      <td>89074</td>\n",
       "      <td>Henderson</td>\n",
       "      <td>Las Vegas, NV</td>\n",
       "      <td>2014-01-01</td>\n",
       "      <td>$1,040.00</td>\n",
       "      <td>36.03</td>\n",
       "      <td>-115.07</td>\n",
       "      <td>Clark County</td>\n",
       "      <td>2014</td>\n",
       "      <td>1</td>\n",
       "      <td>$216,309.00</td>\n",
       "    </tr>\n",
       "    <tr>\n",
       "      <th>3</th>\n",
       "      <td>20910</td>\n",
       "      <td>Silver Spring</td>\n",
       "      <td>Washington, DC</td>\n",
       "      <td>2014-01-01</td>\n",
       "      <td>$1,830.00</td>\n",
       "      <td>39.00</td>\n",
       "      <td>-77.04</td>\n",
       "      <td>Montgomery County</td>\n",
       "      <td>2014</td>\n",
       "      <td>1</td>\n",
       "      <td>$541,022.00</td>\n",
       "    </tr>\n",
       "    <tr>\n",
       "      <th>4</th>\n",
       "      <td>55104</td>\n",
       "      <td>Saint Paul</td>\n",
       "      <td>Minneapolis-St Paul, MN</td>\n",
       "      <td>2014-01-01</td>\n",
       "      <td>$1,087.00</td>\n",
       "      <td>44.95</td>\n",
       "      <td>-93.16</td>\n",
       "      <td>Ramsey County</td>\n",
       "      <td>2014</td>\n",
       "      <td>1</td>\n",
       "      <td>$190,597.00</td>\n",
       "    </tr>\n",
       "  </tbody>\n",
       "</table>\n",
       "</div>"
      ],
      "text/plain": [
       "   zipcode    primarycity                     city        date       rent  \\\n",
       "0    91710          Chino            Riverside, CA  2014-01-01  $1,810.00   \n",
       "1    28078   Huntersville            Charlotte, NC  2014-01-01  $1,205.00   \n",
       "2    89074      Henderson            Las Vegas, NV  2014-01-01  $1,040.00   \n",
       "3    20910  Silver Spring           Washington, DC  2014-01-01  $1,830.00   \n",
       "4    55104     Saint Paul  Minneapolis-St Paul, MN  2014-01-01  $1,087.00   \n",
       "\n",
       "   latitude  longitude                 county  year  month    homevalue  \n",
       "0     34.00    -117.68  San Bernardino County  2014      1  $393,085.00  \n",
       "1     35.41     -80.84     Mecklenburg County  2014      1  $252,566.00  \n",
       "2     36.03    -115.07           Clark County  2014      1  $216,309.00  \n",
       "3     39.00     -77.04      Montgomery County  2014      1  $541,022.00  \n",
       "4     44.95     -93.16          Ramsey County  2014      1  $190,597.00  "
      ]
     },
     "execution_count": 4,
     "metadata": {},
     "output_type": "execute_result"
    }
   ],
   "source": [
    "house.head()\n"
   ]
  },
  {
   "cell_type": "code",
   "execution_count": 5,
   "id": "ce6f2398",
   "metadata": {},
   "outputs": [
    {
     "name": "stderr",
     "output_type": "stream",
     "text": [
      "/var/folders/mt/t33nk5_d1nn6j4wfq6p3l3340000gn/T/ipykernel_21248/830307489.py:1: FutureWarning: The default value of regex will change from True to False in a future version. In addition, single character regular expressions will *not* be treated as literal strings when regex=True.\n",
      "  house[\"rent\"] = house[\"rent\"].str.replace(\"$\", \"\")\n"
     ]
    }
   ],
   "source": [
    "house[\"rent\"] = house[\"rent\"].str.replace(\"$\", \"\")\n",
    "house[\"rent\"] = house[\"rent\"].str.replace(\",\", \"\")\n",
    "house[\"rent\"] = house[\"rent\"].astype(float)\n"
   ]
  },
  {
   "cell_type": "code",
   "execution_count": 6,
   "id": "a90bc1bc",
   "metadata": {},
   "outputs": [
    {
     "data": {
      "text/plain": [
       "Index(['zipcode', 'primarycity', 'city', 'date', 'rent', 'latitude',\n",
       "       'longitude', 'county', 'year', 'month', 'homevalue'],\n",
       "      dtype='object')"
      ]
     },
     "execution_count": 6,
     "metadata": {},
     "output_type": "execute_result"
    }
   ],
   "source": [
    "house.columns"
   ]
  },
  {
   "cell_type": "code",
   "execution_count": 7,
   "id": "f07ceda5",
   "metadata": {},
   "outputs": [
    {
     "name": "stderr",
     "output_type": "stream",
     "text": [
      "/var/folders/mt/t33nk5_d1nn6j4wfq6p3l3340000gn/T/ipykernel_21248/2662781593.py:1: FutureWarning: The default value of regex will change from True to False in a future version. In addition, single character regular expressions will *not* be treated as literal strings when regex=True.\n",
      "  house[\"homevalue\"] = house[\"homevalue\"].str.replace(\"$\", \"\")\n"
     ]
    }
   ],
   "source": [
    "house[\"homevalue\"] = house[\"homevalue\"].str.replace(\"$\", \"\")\n",
    "house[\"homevalue\"] = house[\"homevalue\"].str.replace(\",\", \"\")\n",
    "house[\"homevalue\"] = house[\"homevalue\"].astype(float)"
   ]
  },
  {
   "cell_type": "code",
   "execution_count": 8,
   "id": "96d273a2",
   "metadata": {},
   "outputs": [
    {
     "name": "stdout",
     "output_type": "stream",
     "text": [
      "<class 'pandas.core.frame.DataFrame'>\n",
      "RangeIndex: 216608 entries, 0 to 216607\n",
      "Data columns (total 11 columns):\n",
      " #   Column       Non-Null Count   Dtype  \n",
      "---  ------       --------------   -----  \n",
      " 0   zipcode      216608 non-null  int64  \n",
      " 1   primarycity  216608 non-null  object \n",
      " 2   city         216608 non-null  object \n",
      " 3   date         216608 non-null  object \n",
      " 4   rent         216608 non-null  float64\n",
      " 5   latitude     216608 non-null  float64\n",
      " 6   longitude    216608 non-null  float64\n",
      " 7   county       216509 non-null  object \n",
      " 8   year         216608 non-null  int64  \n",
      " 9   month        216608 non-null  int64  \n",
      " 10  homevalue    216608 non-null  float64\n",
      "dtypes: float64(4), int64(3), object(4)\n",
      "memory usage: 18.2+ MB\n"
     ]
    }
   ],
   "source": [
    "house.info()"
   ]
  },
  {
   "cell_type": "code",
   "execution_count": 9,
   "id": "58991c44",
   "metadata": {},
   "outputs": [
    {
     "data": {
      "text/html": [
       "<div>\n",
       "<style scoped>\n",
       "    .dataframe tbody tr th:only-of-type {\n",
       "        vertical-align: middle;\n",
       "    }\n",
       "\n",
       "    .dataframe tbody tr th {\n",
       "        vertical-align: top;\n",
       "    }\n",
       "\n",
       "    .dataframe thead th {\n",
       "        text-align: right;\n",
       "    }\n",
       "</style>\n",
       "<table border=\"1\" class=\"dataframe\">\n",
       "  <thead>\n",
       "    <tr style=\"text-align: right;\">\n",
       "      <th></th>\n",
       "      <th>zipcode</th>\n",
       "      <th>rent</th>\n",
       "      <th>latitude</th>\n",
       "      <th>longitude</th>\n",
       "      <th>year</th>\n",
       "      <th>month</th>\n",
       "      <th>homevalue</th>\n",
       "    </tr>\n",
       "  </thead>\n",
       "  <tbody>\n",
       "    <tr>\n",
       "      <th>count</th>\n",
       "      <td>216608.000000</td>\n",
       "      <td>216608.000000</td>\n",
       "      <td>216608.000000</td>\n",
       "      <td>216608.000000</td>\n",
       "      <td>216608.000000</td>\n",
       "      <td>216608.000000</td>\n",
       "      <td>2.166080e+05</td>\n",
       "    </tr>\n",
       "    <tr>\n",
       "      <th>mean</th>\n",
       "      <td>54924.910830</td>\n",
       "      <td>1667.264381</td>\n",
       "      <td>35.505987</td>\n",
       "      <td>-94.443329</td>\n",
       "      <td>2017.683437</td>\n",
       "      <td>6.377553</td>\n",
       "      <td>4.384376e+05</td>\n",
       "    </tr>\n",
       "    <tr>\n",
       "      <th>std</th>\n",
       "      <td>30846.015989</td>\n",
       "      <td>835.472886</td>\n",
       "      <td>5.351203</td>\n",
       "      <td>17.671219</td>\n",
       "      <td>2.361714</td>\n",
       "      <td>3.479039</td>\n",
       "      <td>4.043536e+05</td>\n",
       "    </tr>\n",
       "    <tr>\n",
       "      <th>min</th>\n",
       "      <td>1604.000000</td>\n",
       "      <td>84.000000</td>\n",
       "      <td>21.270000</td>\n",
       "      <td>-158.080000</td>\n",
       "      <td>2014.000000</td>\n",
       "      <td>1.000000</td>\n",
       "      <td>1.943100e+04</td>\n",
       "    </tr>\n",
       "    <tr>\n",
       "      <th>25%</th>\n",
       "      <td>30022.000000</td>\n",
       "      <td>1215.000000</td>\n",
       "      <td>32.790000</td>\n",
       "      <td>-112.310000</td>\n",
       "      <td>2016.000000</td>\n",
       "      <td>3.000000</td>\n",
       "      <td>2.112858e+05</td>\n",
       "    </tr>\n",
       "    <tr>\n",
       "      <th>50%</th>\n",
       "      <td>48326.000000</td>\n",
       "      <td>1503.000000</td>\n",
       "      <td>34.300000</td>\n",
       "      <td>-87.620000</td>\n",
       "      <td>2018.000000</td>\n",
       "      <td>6.000000</td>\n",
       "      <td>3.163100e+05</td>\n",
       "    </tr>\n",
       "    <tr>\n",
       "      <th>75%</th>\n",
       "      <td>85653.000000</td>\n",
       "      <td>1937.000000</td>\n",
       "      <td>39.690000</td>\n",
       "      <td>-80.200000</td>\n",
       "      <td>2020.000000</td>\n",
       "      <td>9.000000</td>\n",
       "      <td>5.126048e+05</td>\n",
       "    </tr>\n",
       "    <tr>\n",
       "      <th>max</th>\n",
       "      <td>99206.000000</td>\n",
       "      <td>30255.000000</td>\n",
       "      <td>48.180000</td>\n",
       "      <td>-70.660000</td>\n",
       "      <td>2022.000000</td>\n",
       "      <td>12.000000</td>\n",
       "      <td>5.990842e+06</td>\n",
       "    </tr>\n",
       "  </tbody>\n",
       "</table>\n",
       "</div>"
      ],
      "text/plain": [
       "             zipcode           rent       latitude      longitude  \\\n",
       "count  216608.000000  216608.000000  216608.000000  216608.000000   \n",
       "mean    54924.910830    1667.264381      35.505987     -94.443329   \n",
       "std     30846.015989     835.472886       5.351203      17.671219   \n",
       "min      1604.000000      84.000000      21.270000    -158.080000   \n",
       "25%     30022.000000    1215.000000      32.790000    -112.310000   \n",
       "50%     48326.000000    1503.000000      34.300000     -87.620000   \n",
       "75%     85653.000000    1937.000000      39.690000     -80.200000   \n",
       "max     99206.000000   30255.000000      48.180000     -70.660000   \n",
       "\n",
       "                year          month     homevalue  \n",
       "count  216608.000000  216608.000000  2.166080e+05  \n",
       "mean     2017.683437       6.377553  4.384376e+05  \n",
       "std         2.361714       3.479039  4.043536e+05  \n",
       "min      2014.000000       1.000000  1.943100e+04  \n",
       "25%      2016.000000       3.000000  2.112858e+05  \n",
       "50%      2018.000000       6.000000  3.163100e+05  \n",
       "75%      2020.000000       9.000000  5.126048e+05  \n",
       "max      2022.000000      12.000000  5.990842e+06  "
      ]
     },
     "execution_count": 9,
     "metadata": {},
     "output_type": "execute_result"
    }
   ],
   "source": [
    "house.describe()"
   ]
  },
  {
   "cell_type": "code",
   "execution_count": 10,
   "id": "701dad79",
   "metadata": {},
   "outputs": [],
   "source": [
    "housevalue = house[\"rent\"]"
   ]
  },
  {
   "cell_type": "code",
   "execution_count": 11,
   "id": "b7b7cbd7",
   "metadata": {},
   "outputs": [
    {
     "data": {
      "image/png": "[encoded data removed]",
      "text/plain": [
       "<Figure size 1440x1080 with 1 Axes>"
      ]
     },
     "metadata": {
      "needs_background": "light"
     },
     "output_type": "display_data"
    }
   ],
   "source": [
    "# Lets look at the distribution of all the numeric variables\n",
    "%matplotlib inline\n",
    "import matplotlib.pyplot as plt\n",
    "housevalue.hist(bins=50, figsize=(20,15))\n",
    "plt.show()"
   ]
  },
  {
   "cell_type": "code",
   "execution_count": 12,
   "id": "53f0a567",
   "metadata": {},
   "outputs": [],
   "source": [
    "# Create our features\n",
    "X = house.drop(columns=[\"rent\",\"primarycity\",\"city\", \"county\",\"date\"])\n",
    "X = pd.get_dummies(X)\n",
    "\n",
    "\n",
    "# Create our target\n",
    "y = house[\"rent\"]"
   ]
  },
  {
   "cell_type": "code",
   "execution_count": 13,
   "id": "96ff2482",
   "metadata": {},
   "outputs": [
    {
     "data": {
      "text/html": [
       "<div>\n",
       "<style scoped>\n",
       "    .dataframe tbody tr th:only-of-type {\n",
       "        vertical-align: middle;\n",
       "    }\n",
       "\n",
       "    .dataframe tbody tr th {\n",
       "        vertical-align: top;\n",
       "    }\n",
       "\n",
       "    .dataframe thead th {\n",
       "        text-align: right;\n",
       "    }\n",
       "</style>\n",
       "<table border=\"1\" class=\"dataframe\">\n",
       "  <thead>\n",
       "    <tr style=\"text-align: right;\">\n",
       "      <th></th>\n",
       "      <th>zipcode</th>\n",
       "      <th>latitude</th>\n",
       "      <th>longitude</th>\n",
       "      <th>year</th>\n",
       "      <th>month</th>\n",
       "      <th>homevalue</th>\n",
       "    </tr>\n",
       "  </thead>\n",
       "  <tbody>\n",
       "    <tr>\n",
       "      <th>count</th>\n",
       "      <td>216608.000000</td>\n",
       "      <td>216608.000000</td>\n",
       "      <td>216608.000000</td>\n",
       "      <td>216608.000000</td>\n",
       "      <td>216608.000000</td>\n",
       "      <td>2.166080e+05</td>\n",
       "    </tr>\n",
       "    <tr>\n",
       "      <th>mean</th>\n",
       "      <td>54924.910830</td>\n",
       "      <td>35.505987</td>\n",
       "      <td>-94.443329</td>\n",
       "      <td>2017.683437</td>\n",
       "      <td>6.377553</td>\n",
       "      <td>4.384376e+05</td>\n",
       "    </tr>\n",
       "    <tr>\n",
       "      <th>std</th>\n",
       "      <td>30846.015989</td>\n",
       "      <td>5.351203</td>\n",
       "      <td>17.671219</td>\n",
       "      <td>2.361714</td>\n",
       "      <td>3.479039</td>\n",
       "      <td>4.043536e+05</td>\n",
       "    </tr>\n",
       "    <tr>\n",
       "      <th>min</th>\n",
       "      <td>1604.000000</td>\n",
       "      <td>21.270000</td>\n",
       "      <td>-158.080000</td>\n",
       "      <td>2014.000000</td>\n",
       "      <td>1.000000</td>\n",
       "      <td>1.943100e+04</td>\n",
       "    </tr>\n",
       "    <tr>\n",
       "      <th>25%</th>\n",
       "      <td>30022.000000</td>\n",
       "      <td>32.790000</td>\n",
       "      <td>-112.310000</td>\n",
       "      <td>2016.000000</td>\n",
       "      <td>3.000000</td>\n",
       "      <td>2.112858e+05</td>\n",
       "    </tr>\n",
       "    <tr>\n",
       "      <th>50%</th>\n",
       "      <td>48326.000000</td>\n",
       "      <td>34.300000</td>\n",
       "      <td>-87.620000</td>\n",
       "      <td>2018.000000</td>\n",
       "      <td>6.000000</td>\n",
       "      <td>3.163100e+05</td>\n",
       "    </tr>\n",
       "    <tr>\n",
       "      <th>75%</th>\n",
       "      <td>85653.000000</td>\n",
       "      <td>39.690000</td>\n",
       "      <td>-80.200000</td>\n",
       "      <td>2020.000000</td>\n",
       "      <td>9.000000</td>\n",
       "      <td>5.126048e+05</td>\n",
       "    </tr>\n",
       "    <tr>\n",
       "      <th>max</th>\n",
       "      <td>99206.000000</td>\n",
       "      <td>48.180000</td>\n",
       "      <td>-70.660000</td>\n",
       "      <td>2022.000000</td>\n",
       "      <td>12.000000</td>\n",
       "      <td>5.990842e+06</td>\n",
       "    </tr>\n",
       "  </tbody>\n",
       "</table>\n",
       "</div>"
      ],
      "text/plain": [
       "             zipcode       latitude      longitude           year  \\\n",
       "count  216608.000000  216608.000000  216608.000000  216608.000000   \n",
       "mean    54924.910830      35.505987     -94.443329    2017.683437   \n",
       "std     30846.015989       5.351203      17.671219       2.361714   \n",
       "min      1604.000000      21.270000    -158.080000    2014.000000   \n",
       "25%     30022.000000      32.790000    -112.310000    2016.000000   \n",
       "50%     48326.000000      34.300000     -87.620000    2018.000000   \n",
       "75%     85653.000000      39.690000     -80.200000    2020.000000   \n",
       "max     99206.000000      48.180000     -70.660000    2022.000000   \n",
       "\n",
       "               month     homevalue  \n",
       "count  216608.000000  2.166080e+05  \n",
       "mean        6.377553  4.384376e+05  \n",
       "std         3.479039  4.043536e+05  \n",
       "min         1.000000  1.943100e+04  \n",
       "25%         3.000000  2.112858e+05  \n",
       "50%         6.000000  3.163100e+05  \n",
       "75%         9.000000  5.126048e+05  \n",
       "max        12.000000  5.990842e+06  "
      ]
     },
     "execution_count": 13,
     "metadata": {},
     "output_type": "execute_result"
    }
   ],
   "source": [
    "X.describe()"
   ]
  },
  {
   "cell_type": "code",
   "execution_count": 14,
   "id": "67719dc0",
   "metadata": {},
   "outputs": [],
   "source": [
    "from sklearn.model_selection import train_test_split\n",
    "X_train,X_test,y_train,y_test = train_test_split(X,y,test_size=.25, random_state=12,)"
   ]
  },
  {
   "cell_type": "code",
   "execution_count": 15,
   "id": "3b0e44b9",
   "metadata": {},
   "outputs": [],
   "source": [
    "# # Resample the training data with the RandomOversampler\n",
    "# from imblearn.over_sampling import RandomOverSampler\n",
    "# ros = RandomOverSampler(random_state=1)\n",
    "# X_resampled, y_resampled = ros.fit_resample(X_train, y_train)"
   ]
  },
  {
   "cell_type": "code",
   "execution_count": 16,
   "id": "4da514d1",
   "metadata": {},
   "outputs": [
    {
     "data": {
      "text/plain": [
       "LogisticRegression(random_state=1)"
      ]
     },
     "execution_count": 16,
     "metadata": {},
     "output_type": "execute_result"
    }
   ],
   "source": [
    "# Train the Logistic Regression model using the resampled data\n",
    "from sklearn.linear_model import LogisticRegression\n",
    "log_reg = LogisticRegression(solver='lbfgs', random_state=1)\n",
    "log_reg\n"
   ]
  },
  {
   "cell_type": "code",
   "execution_count": null,
   "id": "1451a409",
   "metadata": {},
   "outputs": [],
   "source": [
    "log_reg.fit(X_train, y_train)"
   ]
  },
  {
   "cell_type": "code",
   "execution_count": null,
   "id": "94b4bc44",
   "metadata": {},
   "outputs": [],
   "source": [
    "# Calculated the balanced accuracy score\n",
    "y_pred =log_reg.predict(X_test)\n",
    "\n",
    "from sklearn.metrics import accuracy_score\n",
    "print(accuracy_score(y_test, y_pred))"
   ]
  },
  {
   "cell_type": "code",
   "execution_count": null,
   "id": "41fcda8f",
   "metadata": {},
   "outputs": [],
   "source": [
    "# Display the confusion matrix\n",
    "\n",
    "confusion_matrix(y_test, y_pred)"
   ]
  },
  {
   "cell_type": "code",
   "execution_count": null,
   "id": "8e54b696",
   "metadata": {},
   "outputs": [],
   "source": [
    "# Print the imbalanced classification report\n",
    "from imblearn.metrics import classification_report_imbalanced\n",
    "print(classification_report_imbalanced(y_test, y_pred))"
   ]
  },
  {
   "cell_type": "markdown",
   "id": "c80ad1f5",
   "metadata": {},
   "source": [
    "# OVERSAMPING "
   ]
  },
  {
   "cell_type": "code",
   "execution_count": null,
   "id": "17cc4211",
   "metadata": {},
   "outputs": [],
   "source": [
    "from sklearn.model_selection import train_test_split\n",
    "X_train,X_test,y_train,y_test=train_test_split(X,y,test_size=.25, random_state=12)\n",
    "X_train.shape"
   ]
  },
  {
   "cell_type": "code",
   "execution_count": null,
   "id": "76944aeb",
   "metadata": {},
   "outputs": [],
   "source": [
    "# Resample the training data with the RandomOversampler\n",
    "from imblearn.over_sampling import RandomOverSampler\n",
    "ros = RandomOverSampler(random_state=12)\n",
    "X_resampled, y_resampled = ros.fit_resample(X_train, y_train)"
   ]
  },
  {
   "cell_type": "code",
   "execution_count": null,
   "id": "872d6946",
   "metadata": {},
   "outputs": [],
   "source": [
    "# Train the Logistic Regression model using the resampled data\n",
    "from sklearn.linear_model import LogisticRegression\n",
    "log_reg = LogisticRegression(solver='lbfgs', random_state=1)\n",
    "log_reg.fit(X_resampled, y_resampled)"
   ]
  },
  {
   "cell_type": "code",
   "execution_count": null,
   "id": "bf545233",
   "metadata": {},
   "outputs": [],
   "source": [
    "# Calculated the balanced accuracy score\n",
    "y_pred =log_reg.predict(X_test)\n",
    "\n",
    "from sklearn.metrics import accuracy_score\n",
    "accuracy_score(y_test, y_pred)"
   ]
  },
  {
   "cell_type": "code",
   "execution_count": null,
   "id": "7defb759",
   "metadata": {},
   "outputs": [],
   "source": [
    "\n",
    "# Display the confusion matrix\n",
    "\n",
    "confusion_matrix(y_test, y_pred)"
   ]
  }
 ],
 "metadata": {
  "kernelspec": {
   "display_name": "pythonData",
   "language": "python",
   "name": "pythondata"
  },
  "language_info": {
   "codemirror_mode": {
    "name": "ipython",
    "version": 3
   },
   "file_extension": ".py",
   "mimetype": "text/x-python",
   "name": "python",
   "nbconvert_exporter": "python",
   "pygments_lexer": "ipython3",
   "version": "3.9.7"
  }
 },
 "nbformat": 4,
 "nbformat_minor": 5
}
