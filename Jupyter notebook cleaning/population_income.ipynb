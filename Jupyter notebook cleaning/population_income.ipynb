{
 "cells": [
  {
   "cell_type": "code",
   "execution_count": 8,
   "id": "2336ce17",
   "metadata": {},
   "outputs": [
    {
     "data": {
      "text/html": [
       "<div>\n",
       "<style scoped>\n",
       "    .dataframe tbody tr th:only-of-type {\n",
       "        vertical-align: middle;\n",
       "    }\n",
       "\n",
       "    .dataframe tbody tr th {\n",
       "        vertical-align: top;\n",
       "    }\n",
       "\n",
       "    .dataframe thead th {\n",
       "        text-align: right;\n",
       "    }\n",
       "</style>\n",
       "<table border=\"1\" class=\"dataframe\">\n",
       "  <thead>\n",
       "    <tr style=\"text-align: right;\">\n",
       "      <th></th>\n",
       "      <th>GeoFips</th>\n",
       "      <th>GeoName</th>\n",
       "      <th>POSTAL ABBREVIATION</th>\n",
       "      <th>Description</th>\n",
       "      <th>2014</th>\n",
       "      <th>2015</th>\n",
       "      <th>2016</th>\n",
       "      <th>2017</th>\n",
       "      <th>2018</th>\n",
       "      <th>2019</th>\n",
       "      <th>2020</th>\n",
       "      <th>2021</th>\n",
       "    </tr>\n",
       "  </thead>\n",
       "  <tbody>\n",
       "    <tr>\n",
       "      <th>0</th>\n",
       "      <td>1000</td>\n",
       "      <td>Alabama</td>\n",
       "      <td>AL</td>\n",
       "      <td>Population (midperiod, persons) 1/</td>\n",
       "      <td>4887659.00</td>\n",
       "      <td>4909074.00</td>\n",
       "      <td>4931224.75</td>\n",
       "      <td>4953310.75</td>\n",
       "      <td>4977409.25</td>\n",
       "      <td>5004337.50</td>\n",
       "      <td>5026219.25</td>\n",
       "      <td>5041117.25</td>\n",
       "    </tr>\n",
       "    <tr>\n",
       "      <th>1</th>\n",
       "      <td>2000</td>\n",
       "      <td>Alaska *</td>\n",
       "      <td>AZ</td>\n",
       "      <td>Population (midperiod, persons) 1/</td>\n",
       "      <td>737993.50</td>\n",
       "      <td>739550.75</td>\n",
       "      <td>742756.25</td>\n",
       "      <td>741685.50</td>\n",
       "      <td>737948.00</td>\n",
       "      <td>735030.25</td>\n",
       "      <td>732943.25</td>\n",
       "      <td>732773.75</td>\n",
       "    </tr>\n",
       "    <tr>\n",
       "      <th>2</th>\n",
       "      <td>4000</td>\n",
       "      <td>Arizona</td>\n",
       "      <td>AZ</td>\n",
       "      <td>Population (midperiod, persons) 1/</td>\n",
       "      <td>6639908.50</td>\n",
       "      <td>6717028.50</td>\n",
       "      <td>6801761.50</td>\n",
       "      <td>6882702.00</td>\n",
       "      <td>6972503.75</td>\n",
       "      <td>7072762.75</td>\n",
       "      <td>7177976.50</td>\n",
       "      <td>7278162.75</td>\n",
       "    </tr>\n",
       "    <tr>\n",
       "      <th>3</th>\n",
       "      <td>5000</td>\n",
       "      <td>Arkansas</td>\n",
       "      <td>AR</td>\n",
       "      <td>Population (midperiod, persons) 1/</td>\n",
       "      <td>2962086.25</td>\n",
       "      <td>2970927.50</td>\n",
       "      <td>2981013.50</td>\n",
       "      <td>2990777.50</td>\n",
       "      <td>2997696.75</td>\n",
       "      <td>3005050.25</td>\n",
       "      <td>3013717.75</td>\n",
       "      <td>3026614.75</td>\n",
       "    </tr>\n",
       "    <tr>\n",
       "      <th>4</th>\n",
       "      <td>6000</td>\n",
       "      <td>California</td>\n",
       "      <td>CA</td>\n",
       "      <td>Population (midperiod, persons) 1/</td>\n",
       "      <td>38642380.75</td>\n",
       "      <td>38963797.75</td>\n",
       "      <td>39222767.50</td>\n",
       "      <td>39420180.25</td>\n",
       "      <td>39529784.50</td>\n",
       "      <td>39551101.50</td>\n",
       "      <td>39486492.25</td>\n",
       "      <td>39246401.25</td>\n",
       "    </tr>\n",
       "  </tbody>\n",
       "</table>\n",
       "</div>"
      ],
      "text/plain": [
       "   GeoFips     GeoName POSTAL ABBREVIATION  \\\n",
       "0     1000     Alabama                  AL   \n",
       "1     2000    Alaska *                  AZ   \n",
       "2     4000     Arizona                  AZ   \n",
       "3     5000    Arkansas                  AR   \n",
       "4     6000  California                  CA   \n",
       "\n",
       "                          Description         2014         2015         2016  \\\n",
       "0  Population (midperiod, persons) 1/   4887659.00   4909074.00   4931224.75   \n",
       "1  Population (midperiod, persons) 1/    737993.50    739550.75    742756.25   \n",
       "2  Population (midperiod, persons) 1/   6639908.50   6717028.50   6801761.50   \n",
       "3  Population (midperiod, persons) 1/   2962086.25   2970927.50   2981013.50   \n",
       "4  Population (midperiod, persons) 1/  38642380.75  38963797.75  39222767.50   \n",
       "\n",
       "          2017         2018         2019         2020         2021  \n",
       "0   4953310.75   4977409.25   5004337.50   5026219.25   5041117.25  \n",
       "1    741685.50    737948.00    735030.25    732943.25    732773.75  \n",
       "2   6882702.00   6972503.75   7072762.75   7177976.50   7278162.75  \n",
       "3   2990777.50   2997696.75   3005050.25   3013717.75   3026614.75  \n",
       "4  39420180.25  39529784.50  39551101.50  39486492.25  39246401.25  "
      ]
     },
     "execution_count": 8,
     "metadata": {},
     "output_type": "execute_result"
    }
   ],
   "source": [
    "# Import\n",
    "import pandas as pd\n",
    "\n",
    "# upload state pop data\n",
    "raw_pop = \"../Resources/population.csv\"\n",
    "pop_df = pd.read_csv(raw_pop)\n",
    "pop_df.head()"
   ]
  },
  {
   "cell_type": "code",
   "execution_count": null,
   "id": "5b28b901",
   "metadata": {},
   "outputs": [],
   "source": [
    "#convert wide to long\n",
    "pop_df = pop_df.melt(id_vars=['GeoFips','GeoName','POSTAL ABBREVIATION','Description'], var_name='year',value_name='population')\n",
    "pop_df.head()"
   ]
  },
  {
   "cell_type": "code",
   "execution_count": null,
   "id": "abd4af95",
   "metadata": {},
   "outputs": [],
   "source": [
    "#drop columns\n",
    "pop_df = pop_df.drop(columns=['GeoFips', 'Description'])\n",
    "pop_df.head()"
   ]
  },
  {
   "cell_type": "code",
   "execution_count": null,
   "id": "a3854efb",
   "metadata": {},
   "outputs": [],
   "source": [
    "#update column names\n",
    "pop_df = pop_df.rename(columns={'GeoName':'state','POSTAL ABBREVIATION':'symbol' })\n",
    "pop_df.head()"
   ]
  },
  {
   "cell_type": "code",
   "execution_count": null,
   "id": "53ff8b27",
   "metadata": {},
   "outputs": [],
   "source": [
    "# upload state income data\n",
    "raw_income = \"income.csv\"\n",
    "income_df = pd.read_csv(raw_income)\n",
    "income_df.head()"
   ]
  },
  {
   "cell_type": "code",
   "execution_count": null,
   "id": "fc335ecb",
   "metadata": {},
   "outputs": [],
   "source": [
    "#convert wide to long\n",
    "income_df = income_df.melt(id_vars=['GeoFips','GeoName','POSTAL ABBREVIATION','Description'], var_name='year',value_name='perCapitaIncome')\n",
    "income_df.head()"
   ]
  },
  {
   "cell_type": "code",
   "execution_count": null,
   "id": "0fd1dbfb",
   "metadata": {},
   "outputs": [],
   "source": [
    "#drop columns\n",
    "#drop columns\n",
    "income_df = income_df.drop(columns=['GeoFips', 'Description'])\n",
    "income_df.head()"
   ]
  },
  {
   "cell_type": "code",
   "execution_count": null,
   "id": "e482c61c",
   "metadata": {},
   "outputs": [],
   "source": [
    "#update column names\n",
    "income_df = income_df.rename(columns={'GeoName':'state','POSTAL ABBREVIATION':'symbol' })\n",
    "income_df.head()"
   ]
  },
  {
   "cell_type": "code",
   "execution_count": null,
   "id": "771230cb",
   "metadata": {},
   "outputs": [],
   "source": [
    "#save csv\n",
    "pop_df.to_csv('clean_population.csv', index = False)\n",
    "income_df.to_csv('clean_income.csv', index = False)"
   ]
  },
  {
   "cell_type": "code",
   "execution_count": null,
   "id": "4a720eda",
   "metadata": {},
   "outputs": [],
   "source": []
  }
 ],
 "metadata": {
  "kernelspec": {
   "display_name": "Python 3 (ipykernel)",
   "language": "python",
   "name": "python3"
  },
  "language_info": {
   "codemirror_mode": {
    "name": "ipython",
    "version": 3
   },
   "file_extension": ".py",
   "mimetype": "text/x-python",
   "name": "python",
   "nbconvert_exporter": "python",
   "pygments_lexer": "ipython3",
   "version": "3.7.11"
  }
 },
 "nbformat": 4,
 "nbformat_minor": 5
}
