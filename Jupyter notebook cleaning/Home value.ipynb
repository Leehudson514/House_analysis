{
 "cells": [
  {
   "cell_type": "code",
   "execution_count": null,
   "id": "e9c951da",
   "metadata": {},
   "outputs": [],
   "source": [
    "# Import\n",
    "import pandas as pd\n",
    "\n",
    "# upload metro housing data\n",
    "raw_data = \"../Resources/Zip_home_value_raw.csv\"\n",
    "home_value_df = pd.read_csv(raw_data)\n",
    "home_value_df.head()"
   ]
  },
  {
   "cell_type": "code",
   "execution_count": null,
   "id": "09e8efa0",
   "metadata": {},
   "outputs": [],
   "source": [
    "#convert wide to long\n",
    "home_value_df = home_value_df.melt(id_vars=['RegionID','SizeRank','RegionName','RegionType','StateName', 'State', 'City', 'Metro', 'CountyName' ], var_name='Date',value_name='average price')\n",
    "home_value_df.head()"
   ]
  },
  {
   "cell_type": "code",
   "execution_count": null,
   "id": "16b26fb8",
   "metadata": {},
   "outputs": [],
   "source": [
    "#drop nullls\n",
    "home_value_df = home_value_df.dropna()\n",
    "print(\"\\nDataFrame after removing null values...\\n\",home_value_df)\n",
    "print(\"\\n(Updated) Number of rows and column in our DataFrame = \",home_value_df.shape)"
   ]
  },
  {
   "cell_type": "code",
   "execution_count": null,
   "id": "2b369269",
   "metadata": {},
   "outputs": [],
   "source": [
    "#check column names\n",
    "home_value_df.columns"
   ]
  },
  {
   "cell_type": "code",
   "execution_count": null,
   "id": "a39b6ded",
   "metadata": {},
   "outputs": [],
   "source": [
    "#drop columns\n",
    "home_value_df = home_value_df.drop(columns=['RegionType', 'StateName'])\n",
    "home_value_df.head()"
   ]
  },
  {
   "cell_type": "code",
   "execution_count": null,
   "id": "baa4bb2a",
   "metadata": {},
   "outputs": [],
   "source": [
    "#update column names\n",
    "home_value_df = home_value_df.rename(columns={'RegionName':'zipCode'})\n",
    "home_value_df.head()"
   ]
  },
  {
   "cell_type": "code",
   "execution_count": null,
   "id": "e1bd4fda",
   "metadata": {},
   "outputs": [],
   "source": [
    "#format currency and import babel\n",
    "from babel.numbers import format_currency\n",
    "\n",
    "home_value_df[\"average price\"] = home_value_df[\"average price\"].apply(lambda x: format_currency(x, currency=\"USD\", locale=\"en_US\"))\n",
    "home_value_df.head()"
   ]
  },
  {
   "cell_type": "code",
   "execution_count": null,
   "id": "22b85ae5",
   "metadata": {},
   "outputs": [],
   "source": [
    "#update column names\n",
    "home_value_df = home_value_df.rename(columns={'average price':'homeValue'})\n",
    "home_value_df.head()"
   ]
  },
  {
   "cell_type": "code",
   "execution_count": null,
   "id": "79c71eaf",
   "metadata": {},
   "outputs": [],
   "source": [
    "# get year from the corresponding\n",
    "# date column value\n",
    "home_value_df['year'] = pd.DatetimeIndex(home_value_df['Date']).year\n",
    " \n",
    "# get month from the corresponding\n",
    "# ate column value\n",
    "home_value_df['month'] = pd.DatetimeIndex(home_value_df['Date']).month\n",
    "\n",
    "home_value_df.head()"
   ]
  },
  {
   "cell_type": "code",
   "execution_count": null,
   "id": "b2d1da27",
   "metadata": {},
   "outputs": [],
   "source": [
    "#save csv\n",
    "home_value_df.to_csv('clean_usa_homevalue.csv', index = False)\n"
   ]
  },
  {
   "cell_type": "code",
   "execution_count": null,
   "id": "daf08e02",
   "metadata": {},
   "outputs": [],
   "source": []
  }
 ],
 "metadata": {
  "kernelspec": {
   "display_name": "Python 3 (ipykernel)",
   "language": "python",
   "name": "python3"
  },
  "language_info": {
   "codemirror_mode": {
    "name": "ipython",
    "version": 3
   },
   "file_extension": ".py",
   "mimetype": "text/x-python",
   "name": "python",
   "nbconvert_exporter": "python",
   "pygments_lexer": "ipython3",
   "version": "3.7.11"
  }
 },
 "nbformat": 4,
 "nbformat_minor": 5
}
