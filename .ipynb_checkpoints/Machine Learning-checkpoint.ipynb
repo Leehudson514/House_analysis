{
 "cells": [
  {
   "cell_type": "code",
   "execution_count": 25,
   "id": "6cf2f69a",
   "metadata": {},
   "outputs": [],
   "source": [
    "import pandas as pd \n",
    "import numpy as np\n",
    "import os\n",
    "import seaborn as sns\n",
    "import pandas as pd\n",
    "from sklearn.linear_model import LinearRegression"
   ]
  },
  {
   "cell_type": "code",
   "execution_count": 5,
   "id": "8f2b52a1",
   "metadata": {},
   "outputs": [],
   "source": [
    "house = \"Resources/Final_rent_homevalue.csv\""
   ]
  },
  {
   "cell_type": "code",
   "execution_count": 6,
   "id": "af4c161f",
   "metadata": {},
   "outputs": [],
   "source": [
    "house = pd.read_csv(house, encoding = \"ISO-8859-1\")"
   ]
  },
  {
   "cell_type": "code",
   "execution_count": 7,
   "id": "28a5382f",
   "metadata": {},
   "outputs": [
    {
     "data": {
      "text/html": [
       "<div>\n",
       "<style scoped>\n",
       "    .dataframe tbody tr th:only-of-type {\n",
       "        vertical-align: middle;\n",
       "    }\n",
       "\n",
       "    .dataframe tbody tr th {\n",
       "        vertical-align: top;\n",
       "    }\n",
       "\n",
       "    .dataframe thead th {\n",
       "        text-align: right;\n",
       "    }\n",
       "</style>\n",
       "<table border=\"1\" class=\"dataframe\">\n",
       "  <thead>\n",
       "    <tr style=\"text-align: right;\">\n",
       "      <th></th>\n",
       "      <th>zipcode</th>\n",
       "      <th>primarycity</th>\n",
       "      <th>city</th>\n",
       "      <th>date</th>\n",
       "      <th>rent</th>\n",
       "      <th>latitude</th>\n",
       "      <th>longitude</th>\n",
       "      <th>county</th>\n",
       "      <th>year</th>\n",
       "      <th>month</th>\n",
       "      <th>homevalue</th>\n",
       "    </tr>\n",
       "  </thead>\n",
       "  <tbody>\n",
       "    <tr>\n",
       "      <th>0</th>\n",
       "      <td>91710</td>\n",
       "      <td>Chino</td>\n",
       "      <td>Riverside, CA</td>\n",
       "      <td>2014-01-01</td>\n",
       "      <td>$1,810.00</td>\n",
       "      <td>34.00</td>\n",
       "      <td>-117.68</td>\n",
       "      <td>San Bernardino County</td>\n",
       "      <td>2014</td>\n",
       "      <td>1</td>\n",
       "      <td>$393,085.00</td>\n",
       "    </tr>\n",
       "    <tr>\n",
       "      <th>1</th>\n",
       "      <td>28078</td>\n",
       "      <td>Huntersville</td>\n",
       "      <td>Charlotte, NC</td>\n",
       "      <td>2014-01-01</td>\n",
       "      <td>$1,205.00</td>\n",
       "      <td>35.41</td>\n",
       "      <td>-80.84</td>\n",
       "      <td>Mecklenburg County</td>\n",
       "      <td>2014</td>\n",
       "      <td>1</td>\n",
       "      <td>$252,566.00</td>\n",
       "    </tr>\n",
       "    <tr>\n",
       "      <th>2</th>\n",
       "      <td>89074</td>\n",
       "      <td>Henderson</td>\n",
       "      <td>Las Vegas, NV</td>\n",
       "      <td>2014-01-01</td>\n",
       "      <td>$1,040.00</td>\n",
       "      <td>36.03</td>\n",
       "      <td>-115.07</td>\n",
       "      <td>Clark County</td>\n",
       "      <td>2014</td>\n",
       "      <td>1</td>\n",
       "      <td>$216,309.00</td>\n",
       "    </tr>\n",
       "    <tr>\n",
       "      <th>3</th>\n",
       "      <td>20910</td>\n",
       "      <td>Silver Spring</td>\n",
       "      <td>Washington, DC</td>\n",
       "      <td>2014-01-01</td>\n",
       "      <td>$1,830.00</td>\n",
       "      <td>39.00</td>\n",
       "      <td>-77.04</td>\n",
       "      <td>Montgomery County</td>\n",
       "      <td>2014</td>\n",
       "      <td>1</td>\n",
       "      <td>$541,022.00</td>\n",
       "    </tr>\n",
       "    <tr>\n",
       "      <th>4</th>\n",
       "      <td>55104</td>\n",
       "      <td>Saint Paul</td>\n",
       "      <td>Minneapolis-St Paul, MN</td>\n",
       "      <td>2014-01-01</td>\n",
       "      <td>$1,087.00</td>\n",
       "      <td>44.95</td>\n",
       "      <td>-93.16</td>\n",
       "      <td>Ramsey County</td>\n",
       "      <td>2014</td>\n",
       "      <td>1</td>\n",
       "      <td>$190,597.00</td>\n",
       "    </tr>\n",
       "  </tbody>\n",
       "</table>\n",
       "</div>"
      ],
      "text/plain": [
       "   zipcode    primarycity                     city        date       rent  \\\n",
       "0    91710          Chino            Riverside, CA  2014-01-01  $1,810.00   \n",
       "1    28078   Huntersville            Charlotte, NC  2014-01-01  $1,205.00   \n",
       "2    89074      Henderson            Las Vegas, NV  2014-01-01  $1,040.00   \n",
       "3    20910  Silver Spring           Washington, DC  2014-01-01  $1,830.00   \n",
       "4    55104     Saint Paul  Minneapolis-St Paul, MN  2014-01-01  $1,087.00   \n",
       "\n",
       "   latitude  longitude                 county  year  month    homevalue  \n",
       "0     34.00    -117.68  San Bernardino County  2014      1  $393,085.00  \n",
       "1     35.41     -80.84     Mecklenburg County  2014      1  $252,566.00  \n",
       "2     36.03    -115.07           Clark County  2014      1  $216,309.00  \n",
       "3     39.00     -77.04      Montgomery County  2014      1  $541,022.00  \n",
       "4     44.95     -93.16          Ramsey County  2014      1  $190,597.00  "
      ]
     },
     "execution_count": 7,
     "metadata": {},
     "output_type": "execute_result"
    }
   ],
   "source": [
    "house.head()\n"
   ]
  },
  {
   "cell_type": "code",
   "execution_count": 8,
   "id": "ce6f2398",
   "metadata": {},
   "outputs": [
    {
     "name": "stderr",
     "output_type": "stream",
     "text": [
      "/var/folders/mt/t33nk5_d1nn6j4wfq6p3l3340000gn/T/ipykernel_30239/830307489.py:1: FutureWarning: The default value of regex will change from True to False in a future version. In addition, single character regular expressions will *not* be treated as literal strings when regex=True.\n",
      "  house[\"rent\"] = house[\"rent\"].str.replace(\"$\", \"\")\n"
     ]
    }
   ],
   "source": [
    "house[\"rent\"] = house[\"rent\"].str.replace(\"$\", \"\")\n",
    "house[\"rent\"] = house[\"rent\"].str.replace(\",\", \"\")\n",
    "house[\"rent\"] = house[\"rent\"].astype(float)\n"
   ]
  },
  {
   "cell_type": "code",
   "execution_count": 9,
   "id": "a90bc1bc",
   "metadata": {},
   "outputs": [
    {
     "data": {
      "text/plain": [
       "Index(['zipcode', 'primarycity', 'city', 'date', 'rent', 'latitude',\n",
       "       'longitude', 'county', 'year', 'month', 'homevalue'],\n",
       "      dtype='object')"
      ]
     },
     "execution_count": 9,
     "metadata": {},
     "output_type": "execute_result"
    }
   ],
   "source": [
    "house.columns"
   ]
  },
  {
   "cell_type": "code",
   "execution_count": 10,
   "id": "f07ceda5",
   "metadata": {},
   "outputs": [
    {
     "name": "stderr",
     "output_type": "stream",
     "text": [
      "/var/folders/mt/t33nk5_d1nn6j4wfq6p3l3340000gn/T/ipykernel_30239/2662781593.py:1: FutureWarning: The default value of regex will change from True to False in a future version. In addition, single character regular expressions will *not* be treated as literal strings when regex=True.\n",
      "  house[\"homevalue\"] = house[\"homevalue\"].str.replace(\"$\", \"\")\n"
     ]
    }
   ],
   "source": [
    "house[\"homevalue\"] = house[\"homevalue\"].str.replace(\"$\", \"\")\n",
    "house[\"homevalue\"] = house[\"homevalue\"].str.replace(\",\", \"\")\n",
    "house[\"homevalue\"] = house[\"homevalue\"].astype(float)"
   ]
  },
  {
   "cell_type": "code",
   "execution_count": 11,
   "id": "96d273a2",
   "metadata": {},
   "outputs": [
    {
     "name": "stdout",
     "output_type": "stream",
     "text": [
      "<class 'pandas.core.frame.DataFrame'>\n",
      "RangeIndex: 216608 entries, 0 to 216607\n",
      "Data columns (total 11 columns):\n",
      " #   Column       Non-Null Count   Dtype  \n",
      "---  ------       --------------   -----  \n",
      " 0   zipcode      216608 non-null  int64  \n",
      " 1   primarycity  216608 non-null  object \n",
      " 2   city         216608 non-null  object \n",
      " 3   date         216608 non-null  object \n",
      " 4   rent         216608 non-null  float64\n",
      " 5   latitude     216608 non-null  float64\n",
      " 6   longitude    216608 non-null  float64\n",
      " 7   county       216509 non-null  object \n",
      " 8   year         216608 non-null  int64  \n",
      " 9   month        216608 non-null  int64  \n",
      " 10  homevalue    216608 non-null  float64\n",
      "dtypes: float64(4), int64(3), object(4)\n",
      "memory usage: 18.2+ MB\n"
     ]
    }
   ],
   "source": [
    "house.info()"
   ]
  },
  {
   "cell_type": "code",
   "execution_count": 12,
   "id": "58991c44",
   "metadata": {},
   "outputs": [
    {
     "data": {
      "text/html": [
       "<div>\n",
       "<style scoped>\n",
       "    .dataframe tbody tr th:only-of-type {\n",
       "        vertical-align: middle;\n",
       "    }\n",
       "\n",
       "    .dataframe tbody tr th {\n",
       "        vertical-align: top;\n",
       "    }\n",
       "\n",
       "    .dataframe thead th {\n",
       "        text-align: right;\n",
       "    }\n",
       "</style>\n",
       "<table border=\"1\" class=\"dataframe\">\n",
       "  <thead>\n",
       "    <tr style=\"text-align: right;\">\n",
       "      <th></th>\n",
       "      <th>zipcode</th>\n",
       "      <th>rent</th>\n",
       "      <th>latitude</th>\n",
       "      <th>longitude</th>\n",
       "      <th>year</th>\n",
       "      <th>month</th>\n",
       "      <th>homevalue</th>\n",
       "    </tr>\n",
       "  </thead>\n",
       "  <tbody>\n",
       "    <tr>\n",
       "      <th>count</th>\n",
       "      <td>216608.000000</td>\n",
       "      <td>216608.000000</td>\n",
       "      <td>216608.000000</td>\n",
       "      <td>216608.000000</td>\n",
       "      <td>216608.000000</td>\n",
       "      <td>216608.000000</td>\n",
       "      <td>2.166080e+05</td>\n",
       "    </tr>\n",
       "    <tr>\n",
       "      <th>mean</th>\n",
       "      <td>54924.910830</td>\n",
       "      <td>1667.264381</td>\n",
       "      <td>35.505987</td>\n",
       "      <td>-94.443329</td>\n",
       "      <td>2017.683437</td>\n",
       "      <td>6.377553</td>\n",
       "      <td>4.384376e+05</td>\n",
       "    </tr>\n",
       "    <tr>\n",
       "      <th>std</th>\n",
       "      <td>30846.015989</td>\n",
       "      <td>835.472886</td>\n",
       "      <td>5.351203</td>\n",
       "      <td>17.671219</td>\n",
       "      <td>2.361714</td>\n",
       "      <td>3.479039</td>\n",
       "      <td>4.043536e+05</td>\n",
       "    </tr>\n",
       "    <tr>\n",
       "      <th>min</th>\n",
       "      <td>1604.000000</td>\n",
       "      <td>84.000000</td>\n",
       "      <td>21.270000</td>\n",
       "      <td>-158.080000</td>\n",
       "      <td>2014.000000</td>\n",
       "      <td>1.000000</td>\n",
       "      <td>1.943100e+04</td>\n",
       "    </tr>\n",
       "    <tr>\n",
       "      <th>25%</th>\n",
       "      <td>30022.000000</td>\n",
       "      <td>1215.000000</td>\n",
       "      <td>32.790000</td>\n",
       "      <td>-112.310000</td>\n",
       "      <td>2016.000000</td>\n",
       "      <td>3.000000</td>\n",
       "      <td>2.112858e+05</td>\n",
       "    </tr>\n",
       "    <tr>\n",
       "      <th>50%</th>\n",
       "      <td>48326.000000</td>\n",
       "      <td>1503.000000</td>\n",
       "      <td>34.300000</td>\n",
       "      <td>-87.620000</td>\n",
       "      <td>2018.000000</td>\n",
       "      <td>6.000000</td>\n",
       "      <td>3.163100e+05</td>\n",
       "    </tr>\n",
       "    <tr>\n",
       "      <th>75%</th>\n",
       "      <td>85653.000000</td>\n",
       "      <td>1937.000000</td>\n",
       "      <td>39.690000</td>\n",
       "      <td>-80.200000</td>\n",
       "      <td>2020.000000</td>\n",
       "      <td>9.000000</td>\n",
       "      <td>5.126048e+05</td>\n",
       "    </tr>\n",
       "    <tr>\n",
       "      <th>max</th>\n",
       "      <td>99206.000000</td>\n",
       "      <td>30255.000000</td>\n",
       "      <td>48.180000</td>\n",
       "      <td>-70.660000</td>\n",
       "      <td>2022.000000</td>\n",
       "      <td>12.000000</td>\n",
       "      <td>5.990842e+06</td>\n",
       "    </tr>\n",
       "  </tbody>\n",
       "</table>\n",
       "</div>"
      ],
      "text/plain": [
       "             zipcode           rent       latitude      longitude  \\\n",
       "count  216608.000000  216608.000000  216608.000000  216608.000000   \n",
       "mean    54924.910830    1667.264381      35.505987     -94.443329   \n",
       "std     30846.015989     835.472886       5.351203      17.671219   \n",
       "min      1604.000000      84.000000      21.270000    -158.080000   \n",
       "25%     30022.000000    1215.000000      32.790000    -112.310000   \n",
       "50%     48326.000000    1503.000000      34.300000     -87.620000   \n",
       "75%     85653.000000    1937.000000      39.690000     -80.200000   \n",
       "max     99206.000000   30255.000000      48.180000     -70.660000   \n",
       "\n",
       "                year          month     homevalue  \n",
       "count  216608.000000  216608.000000  2.166080e+05  \n",
       "mean     2017.683437       6.377553  4.384376e+05  \n",
       "std         2.361714       3.479039  4.043536e+05  \n",
       "min      2014.000000       1.000000  1.943100e+04  \n",
       "25%      2016.000000       3.000000  2.112858e+05  \n",
       "50%      2018.000000       6.000000  3.163100e+05  \n",
       "75%      2020.000000       9.000000  5.126048e+05  \n",
       "max      2022.000000      12.000000  5.990842e+06  "
      ]
     },
     "execution_count": 12,
     "metadata": {},
     "output_type": "execute_result"
    }
   ],
   "source": [
    "house.describe()"
   ]
  },
  {
   "cell_type": "code",
   "execution_count": 13,
   "id": "701dad79",
   "metadata": {},
   "outputs": [],
   "source": [
    "housevalue = house[\"rent\"]\n"
   ]
  },
  {
   "cell_type": "code",
   "execution_count": 58,
   "id": "d12e12bc",
   "metadata": {},
   "outputs": [],
   "source": [
    "years = [2014,2015,2016,2017,2018,2019,2020,2021,2022]"
   ]
  },
  {
   "cell_type": "code",
   "execution_count": 69,
   "id": "2ca7f575",
   "metadata": {},
   "outputs": [
    {
     "ename": "ValueError",
     "evalue": "The number of FixedLocator locations (2), usually from a call to set_ticks, does not match the number of ticklabels (1).",
     "output_type": "error",
     "traceback": [
      "\u001b[0;31m---------------------------------------------------------------------------\u001b[0m",
      "\u001b[0;31mValueError\u001b[0m                                Traceback (most recent call last)",
      "\u001b[0;32m/var/folders/mt/t33nk5_d1nn6j4wfq6p3l3340000gn/T/ipykernel_30239/1355278828.py\u001b[0m in \u001b[0;36m<module>\u001b[0;34m\u001b[0m\n\u001b[1;32m      4\u001b[0m \u001b[0;32mfor\u001b[0m \u001b[0meach\u001b[0m \u001b[0;32min\u001b[0m \u001b[0mbox_df\u001b[0m\u001b[0;34m:\u001b[0m\u001b[0;34m\u001b[0m\u001b[0;34m\u001b[0m\u001b[0m\n\u001b[1;32m      5\u001b[0m \u001b[0;34m\u001b[0m\u001b[0m\n\u001b[0;32m----> 6\u001b[0;31m     \u001b[0max\u001b[0m \u001b[0;34m=\u001b[0m \u001b[0meach\u001b[0m\u001b[0;34m[\u001b[0m\u001b[0;34m\"rent\"\u001b[0m\u001b[0;34m]\u001b[0m\u001b[0;34m.\u001b[0m\u001b[0mplot\u001b[0m\u001b[0;34m(\u001b[0m\u001b[0mkind\u001b[0m\u001b[0;34m=\u001b[0m\u001b[0;34m'box'\u001b[0m\u001b[0;34m,\u001b[0m \u001b[0mtitle\u001b[0m\u001b[0;34m=\u001b[0m\u001b[0;34m'boxplot'\u001b[0m\u001b[0;34m)\u001b[0m\u001b[0;34m\u001b[0m\u001b[0;34m\u001b[0m\u001b[0m\n\u001b[0m\u001b[1;32m      7\u001b[0m \u001b[0;31m# plt.boxplot(box_df.year, box_df.rent)\u001b[0m\u001b[0;34m\u001b[0m\u001b[0;34m\u001b[0m\u001b[0m\n\u001b[1;32m      8\u001b[0m \u001b[0mplt\u001b[0m\u001b[0;34m.\u001b[0m\u001b[0mxlabel\u001b[0m\u001b[0;34m(\u001b[0m\u001b[0;34m'rent'\u001b[0m\u001b[0;34m)\u001b[0m\u001b[0;34m\u001b[0m\u001b[0;34m\u001b[0m\u001b[0m\n",
      "\u001b[0;32m~/opt/anaconda3/lib/python3.9/site-packages/pandas/plotting/_core.py\u001b[0m in \u001b[0;36m__call__\u001b[0;34m(self, *args, **kwargs)\u001b[0m\n\u001b[1;32m    970\u001b[0m                     \u001b[0mdata\u001b[0m\u001b[0;34m.\u001b[0m\u001b[0mcolumns\u001b[0m \u001b[0;34m=\u001b[0m \u001b[0mlabel_name\u001b[0m\u001b[0;34m\u001b[0m\u001b[0;34m\u001b[0m\u001b[0m\n\u001b[1;32m    971\u001b[0m \u001b[0;34m\u001b[0m\u001b[0m\n\u001b[0;32m--> 972\u001b[0;31m         \u001b[0;32mreturn\u001b[0m \u001b[0mplot_backend\u001b[0m\u001b[0;34m.\u001b[0m\u001b[0mplot\u001b[0m\u001b[0;34m(\u001b[0m\u001b[0mdata\u001b[0m\u001b[0;34m,\u001b[0m \u001b[0mkind\u001b[0m\u001b[0;34m=\u001b[0m\u001b[0mkind\u001b[0m\u001b[0;34m,\u001b[0m \u001b[0;34m**\u001b[0m\u001b[0mkwargs\u001b[0m\u001b[0;34m)\u001b[0m\u001b[0;34m\u001b[0m\u001b[0;34m\u001b[0m\u001b[0m\n\u001b[0m\u001b[1;32m    973\u001b[0m \u001b[0;34m\u001b[0m\u001b[0m\n\u001b[1;32m    974\u001b[0m     \u001b[0m__call__\u001b[0m\u001b[0;34m.\u001b[0m\u001b[0m__doc__\u001b[0m \u001b[0;34m=\u001b[0m \u001b[0m__doc__\u001b[0m\u001b[0;34m\u001b[0m\u001b[0;34m\u001b[0m\u001b[0m\n",
      "\u001b[0;32m~/opt/anaconda3/lib/python3.9/site-packages/pandas/plotting/_matplotlib/__init__.py\u001b[0m in \u001b[0;36mplot\u001b[0;34m(data, kind, **kwargs)\u001b[0m\n\u001b[1;32m     69\u001b[0m             \u001b[0mkwargs\u001b[0m\u001b[0;34m[\u001b[0m\u001b[0;34m\"ax\"\u001b[0m\u001b[0;34m]\u001b[0m \u001b[0;34m=\u001b[0m \u001b[0mgetattr\u001b[0m\u001b[0;34m(\u001b[0m\u001b[0max\u001b[0m\u001b[0;34m,\u001b[0m \u001b[0;34m\"left_ax\"\u001b[0m\u001b[0;34m,\u001b[0m \u001b[0max\u001b[0m\u001b[0;34m)\u001b[0m\u001b[0;34m\u001b[0m\u001b[0;34m\u001b[0m\u001b[0m\n\u001b[1;32m     70\u001b[0m     \u001b[0mplot_obj\u001b[0m \u001b[0;34m=\u001b[0m \u001b[0mPLOT_CLASSES\u001b[0m\u001b[0;34m[\u001b[0m\u001b[0mkind\u001b[0m\u001b[0;34m]\u001b[0m\u001b[0;34m(\u001b[0m\u001b[0mdata\u001b[0m\u001b[0;34m,\u001b[0m \u001b[0;34m**\u001b[0m\u001b[0mkwargs\u001b[0m\u001b[0;34m)\u001b[0m\u001b[0;34m\u001b[0m\u001b[0;34m\u001b[0m\u001b[0m\n\u001b[0;32m---> 71\u001b[0;31m     \u001b[0mplot_obj\u001b[0m\u001b[0;34m.\u001b[0m\u001b[0mgenerate\u001b[0m\u001b[0;34m(\u001b[0m\u001b[0;34m)\u001b[0m\u001b[0;34m\u001b[0m\u001b[0;34m\u001b[0m\u001b[0m\n\u001b[0m\u001b[1;32m     72\u001b[0m     \u001b[0mplot_obj\u001b[0m\u001b[0;34m.\u001b[0m\u001b[0mdraw\u001b[0m\u001b[0;34m(\u001b[0m\u001b[0;34m)\u001b[0m\u001b[0;34m\u001b[0m\u001b[0;34m\u001b[0m\u001b[0m\n\u001b[1;32m     73\u001b[0m     \u001b[0;32mreturn\u001b[0m \u001b[0mplot_obj\u001b[0m\u001b[0;34m.\u001b[0m\u001b[0mresult\u001b[0m\u001b[0;34m\u001b[0m\u001b[0;34m\u001b[0m\u001b[0m\n",
      "\u001b[0;32m~/opt/anaconda3/lib/python3.9/site-packages/pandas/plotting/_matplotlib/core.py\u001b[0m in \u001b[0;36mgenerate\u001b[0;34m(self)\u001b[0m\n\u001b[1;32m    286\u001b[0m         \u001b[0mself\u001b[0m\u001b[0;34m.\u001b[0m\u001b[0m_compute_plot_data\u001b[0m\u001b[0;34m(\u001b[0m\u001b[0;34m)\u001b[0m\u001b[0;34m\u001b[0m\u001b[0;34m\u001b[0m\u001b[0m\n\u001b[1;32m    287\u001b[0m         \u001b[0mself\u001b[0m\u001b[0;34m.\u001b[0m\u001b[0m_setup_subplots\u001b[0m\u001b[0;34m(\u001b[0m\u001b[0;34m)\u001b[0m\u001b[0;34m\u001b[0m\u001b[0;34m\u001b[0m\u001b[0m\n\u001b[0;32m--> 288\u001b[0;31m         \u001b[0mself\u001b[0m\u001b[0;34m.\u001b[0m\u001b[0m_make_plot\u001b[0m\u001b[0;34m(\u001b[0m\u001b[0;34m)\u001b[0m\u001b[0;34m\u001b[0m\u001b[0;34m\u001b[0m\u001b[0m\n\u001b[0m\u001b[1;32m    289\u001b[0m         \u001b[0mself\u001b[0m\u001b[0;34m.\u001b[0m\u001b[0m_add_table\u001b[0m\u001b[0;34m(\u001b[0m\u001b[0;34m)\u001b[0m\u001b[0;34m\u001b[0m\u001b[0;34m\u001b[0m\u001b[0m\n\u001b[1;32m    290\u001b[0m         \u001b[0mself\u001b[0m\u001b[0;34m.\u001b[0m\u001b[0m_make_legend\u001b[0m\u001b[0;34m(\u001b[0m\u001b[0;34m)\u001b[0m\u001b[0;34m\u001b[0m\u001b[0;34m\u001b[0m\u001b[0m\n",
      "\u001b[0;32m~/opt/anaconda3/lib/python3.9/site-packages/pandas/plotting/_matplotlib/boxplot.py\u001b[0m in \u001b[0;36m_make_plot\u001b[0;34m(self)\u001b[0m\n\u001b[1;32m    163\u001b[0m             \u001b[0;32mif\u001b[0m \u001b[0;32mnot\u001b[0m \u001b[0mself\u001b[0m\u001b[0;34m.\u001b[0m\u001b[0muse_index\u001b[0m\u001b[0;34m:\u001b[0m\u001b[0;34m\u001b[0m\u001b[0;34m\u001b[0m\u001b[0m\n\u001b[1;32m    164\u001b[0m                 \u001b[0mlabels\u001b[0m \u001b[0;34m=\u001b[0m \u001b[0;34m[\u001b[0m\u001b[0mpprint_thing\u001b[0m\u001b[0;34m(\u001b[0m\u001b[0mkey\u001b[0m\u001b[0;34m)\u001b[0m \u001b[0;32mfor\u001b[0m \u001b[0mkey\u001b[0m \u001b[0;32min\u001b[0m \u001b[0mrange\u001b[0m\u001b[0;34m(\u001b[0m\u001b[0mlen\u001b[0m\u001b[0;34m(\u001b[0m\u001b[0mlabels\u001b[0m\u001b[0;34m)\u001b[0m\u001b[0;34m)\u001b[0m\u001b[0;34m]\u001b[0m\u001b[0;34m\u001b[0m\u001b[0;34m\u001b[0m\u001b[0m\n\u001b[0;32m--> 165\u001b[0;31m             \u001b[0mself\u001b[0m\u001b[0;34m.\u001b[0m\u001b[0m_set_ticklabels\u001b[0m\u001b[0;34m(\u001b[0m\u001b[0max\u001b[0m\u001b[0;34m,\u001b[0m \u001b[0mlabels\u001b[0m\u001b[0;34m)\u001b[0m\u001b[0;34m\u001b[0m\u001b[0;34m\u001b[0m\u001b[0m\n\u001b[0m\u001b[1;32m    166\u001b[0m \u001b[0;34m\u001b[0m\u001b[0m\n\u001b[1;32m    167\u001b[0m     \u001b[0;32mdef\u001b[0m \u001b[0m_set_ticklabels\u001b[0m\u001b[0;34m(\u001b[0m\u001b[0mself\u001b[0m\u001b[0;34m,\u001b[0m \u001b[0max\u001b[0m\u001b[0;34m:\u001b[0m \u001b[0mAxes\u001b[0m\u001b[0;34m,\u001b[0m \u001b[0mlabels\u001b[0m\u001b[0;34m)\u001b[0m\u001b[0;34m:\u001b[0m\u001b[0;34m\u001b[0m\u001b[0;34m\u001b[0m\u001b[0m\n",
      "\u001b[0;32m~/opt/anaconda3/lib/python3.9/site-packages/pandas/plotting/_matplotlib/boxplot.py\u001b[0m in \u001b[0;36m_set_ticklabels\u001b[0;34m(self, ax, labels)\u001b[0m\n\u001b[1;32m    167\u001b[0m     \u001b[0;32mdef\u001b[0m \u001b[0m_set_ticklabels\u001b[0m\u001b[0;34m(\u001b[0m\u001b[0mself\u001b[0m\u001b[0;34m,\u001b[0m \u001b[0max\u001b[0m\u001b[0;34m:\u001b[0m \u001b[0mAxes\u001b[0m\u001b[0;34m,\u001b[0m \u001b[0mlabels\u001b[0m\u001b[0;34m)\u001b[0m\u001b[0;34m:\u001b[0m\u001b[0;34m\u001b[0m\u001b[0;34m\u001b[0m\u001b[0m\n\u001b[1;32m    168\u001b[0m         \u001b[0;32mif\u001b[0m \u001b[0mself\u001b[0m\u001b[0;34m.\u001b[0m\u001b[0morientation\u001b[0m \u001b[0;34m==\u001b[0m \u001b[0;34m\"vertical\"\u001b[0m\u001b[0;34m:\u001b[0m\u001b[0;34m\u001b[0m\u001b[0;34m\u001b[0m\u001b[0m\n\u001b[0;32m--> 169\u001b[0;31m             \u001b[0max\u001b[0m\u001b[0;34m.\u001b[0m\u001b[0mset_xticklabels\u001b[0m\u001b[0;34m(\u001b[0m\u001b[0mlabels\u001b[0m\u001b[0;34m)\u001b[0m\u001b[0;34m\u001b[0m\u001b[0;34m\u001b[0m\u001b[0m\n\u001b[0m\u001b[1;32m    170\u001b[0m         \u001b[0;32melse\u001b[0m\u001b[0;34m:\u001b[0m\u001b[0;34m\u001b[0m\u001b[0;34m\u001b[0m\u001b[0m\n\u001b[1;32m    171\u001b[0m             \u001b[0max\u001b[0m\u001b[0;34m.\u001b[0m\u001b[0mset_yticklabels\u001b[0m\u001b[0;34m(\u001b[0m\u001b[0mlabels\u001b[0m\u001b[0;34m)\u001b[0m\u001b[0;34m\u001b[0m\u001b[0;34m\u001b[0m\u001b[0m\n",
      "\u001b[0;32m~/opt/anaconda3/lib/python3.9/site-packages/matplotlib/axes/_base.py\u001b[0m in \u001b[0;36mwrapper\u001b[0;34m(self, *args, **kwargs)\u001b[0m\n\u001b[1;32m     71\u001b[0m \u001b[0;34m\u001b[0m\u001b[0m\n\u001b[1;32m     72\u001b[0m         \u001b[0;32mdef\u001b[0m \u001b[0mwrapper\u001b[0m\u001b[0;34m(\u001b[0m\u001b[0mself\u001b[0m\u001b[0;34m,\u001b[0m \u001b[0;34m*\u001b[0m\u001b[0margs\u001b[0m\u001b[0;34m,\u001b[0m \u001b[0;34m**\u001b[0m\u001b[0mkwargs\u001b[0m\u001b[0;34m)\u001b[0m\u001b[0;34m:\u001b[0m\u001b[0;34m\u001b[0m\u001b[0;34m\u001b[0m\u001b[0m\n\u001b[0;32m---> 73\u001b[0;31m             \u001b[0;32mreturn\u001b[0m \u001b[0mget_method\u001b[0m\u001b[0;34m(\u001b[0m\u001b[0mself\u001b[0m\u001b[0;34m)\u001b[0m\u001b[0;34m(\u001b[0m\u001b[0;34m*\u001b[0m\u001b[0margs\u001b[0m\u001b[0;34m,\u001b[0m \u001b[0;34m**\u001b[0m\u001b[0mkwargs\u001b[0m\u001b[0;34m)\u001b[0m\u001b[0;34m\u001b[0m\u001b[0;34m\u001b[0m\u001b[0m\n\u001b[0m\u001b[1;32m     74\u001b[0m \u001b[0;34m\u001b[0m\u001b[0m\n\u001b[1;32m     75\u001b[0m         \u001b[0mwrapper\u001b[0m\u001b[0;34m.\u001b[0m\u001b[0m__module__\u001b[0m \u001b[0;34m=\u001b[0m \u001b[0mowner\u001b[0m\u001b[0;34m.\u001b[0m\u001b[0m__module__\u001b[0m\u001b[0;34m\u001b[0m\u001b[0;34m\u001b[0m\u001b[0m\n",
      "\u001b[0;32m~/opt/anaconda3/lib/python3.9/site-packages/matplotlib/_api/deprecation.py\u001b[0m in \u001b[0;36mwrapper\u001b[0;34m(*args, **kwargs)\u001b[0m\n\u001b[1;32m    469\u001b[0m                 \u001b[0;34m\"parameter will become keyword-only %(removal)s.\"\u001b[0m\u001b[0;34m,\u001b[0m\u001b[0;34m\u001b[0m\u001b[0;34m\u001b[0m\u001b[0m\n\u001b[1;32m    470\u001b[0m                 name=name, obj_type=f\"parameter of {func.__name__}()\")\n\u001b[0;32m--> 471\u001b[0;31m         \u001b[0;32mreturn\u001b[0m \u001b[0mfunc\u001b[0m\u001b[0;34m(\u001b[0m\u001b[0;34m*\u001b[0m\u001b[0margs\u001b[0m\u001b[0;34m,\u001b[0m \u001b[0;34m**\u001b[0m\u001b[0mkwargs\u001b[0m\u001b[0;34m)\u001b[0m\u001b[0;34m\u001b[0m\u001b[0;34m\u001b[0m\u001b[0m\n\u001b[0m\u001b[1;32m    472\u001b[0m \u001b[0;34m\u001b[0m\u001b[0m\n\u001b[1;32m    473\u001b[0m     \u001b[0;32mreturn\u001b[0m \u001b[0mwrapper\u001b[0m\u001b[0;34m\u001b[0m\u001b[0;34m\u001b[0m\u001b[0m\n",
      "\u001b[0;32m~/opt/anaconda3/lib/python3.9/site-packages/matplotlib/axis.py\u001b[0m in \u001b[0;36m_set_ticklabels\u001b[0;34m(self, labels, fontdict, minor, **kwargs)\u001b[0m\n\u001b[1;32m   1793\u001b[0m         \u001b[0;32mif\u001b[0m \u001b[0mfontdict\u001b[0m \u001b[0;32mis\u001b[0m \u001b[0;32mnot\u001b[0m \u001b[0;32mNone\u001b[0m\u001b[0;34m:\u001b[0m\u001b[0;34m\u001b[0m\u001b[0;34m\u001b[0m\u001b[0m\n\u001b[1;32m   1794\u001b[0m             \u001b[0mkwargs\u001b[0m\u001b[0;34m.\u001b[0m\u001b[0mupdate\u001b[0m\u001b[0;34m(\u001b[0m\u001b[0mfontdict\u001b[0m\u001b[0;34m)\u001b[0m\u001b[0;34m\u001b[0m\u001b[0;34m\u001b[0m\u001b[0m\n\u001b[0;32m-> 1795\u001b[0;31m         \u001b[0;32mreturn\u001b[0m \u001b[0mself\u001b[0m\u001b[0;34m.\u001b[0m\u001b[0mset_ticklabels\u001b[0m\u001b[0;34m(\u001b[0m\u001b[0mlabels\u001b[0m\u001b[0;34m,\u001b[0m \u001b[0mminor\u001b[0m\u001b[0;34m=\u001b[0m\u001b[0mminor\u001b[0m\u001b[0;34m,\u001b[0m \u001b[0;34m**\u001b[0m\u001b[0mkwargs\u001b[0m\u001b[0;34m)\u001b[0m\u001b[0;34m\u001b[0m\u001b[0;34m\u001b[0m\u001b[0m\n\u001b[0m\u001b[1;32m   1796\u001b[0m \u001b[0;34m\u001b[0m\u001b[0m\n\u001b[1;32m   1797\u001b[0m     \u001b[0;32mdef\u001b[0m \u001b[0mset_ticks\u001b[0m\u001b[0;34m(\u001b[0m\u001b[0mself\u001b[0m\u001b[0;34m,\u001b[0m \u001b[0mticks\u001b[0m\u001b[0;34m,\u001b[0m \u001b[0;34m*\u001b[0m\u001b[0;34m,\u001b[0m \u001b[0mminor\u001b[0m\u001b[0;34m=\u001b[0m\u001b[0;32mFalse\u001b[0m\u001b[0;34m)\u001b[0m\u001b[0;34m:\u001b[0m\u001b[0;34m\u001b[0m\u001b[0;34m\u001b[0m\u001b[0m\n",
      "\u001b[0;32m~/opt/anaconda3/lib/python3.9/site-packages/matplotlib/axis.py\u001b[0m in \u001b[0;36mset_ticklabels\u001b[0;34m(self, ticklabels, minor, **kwargs)\u001b[0m\n\u001b[1;32m   1714\u001b[0m             \u001b[0;31m# remove all tick labels, so only error for > 0 ticklabels\u001b[0m\u001b[0;34m\u001b[0m\u001b[0;34m\u001b[0m\u001b[0m\n\u001b[1;32m   1715\u001b[0m             \u001b[0;32mif\u001b[0m \u001b[0mlen\u001b[0m\u001b[0;34m(\u001b[0m\u001b[0mlocator\u001b[0m\u001b[0;34m.\u001b[0m\u001b[0mlocs\u001b[0m\u001b[0;34m)\u001b[0m \u001b[0;34m!=\u001b[0m \u001b[0mlen\u001b[0m\u001b[0;34m(\u001b[0m\u001b[0mticklabels\u001b[0m\u001b[0;34m)\u001b[0m \u001b[0;32mand\u001b[0m \u001b[0mlen\u001b[0m\u001b[0;34m(\u001b[0m\u001b[0mticklabels\u001b[0m\u001b[0;34m)\u001b[0m \u001b[0;34m!=\u001b[0m \u001b[0;36m0\u001b[0m\u001b[0;34m:\u001b[0m\u001b[0;34m\u001b[0m\u001b[0;34m\u001b[0m\u001b[0m\n\u001b[0;32m-> 1716\u001b[0;31m                 raise ValueError(\n\u001b[0m\u001b[1;32m   1717\u001b[0m                     \u001b[0;34m\"The number of FixedLocator locations\"\u001b[0m\u001b[0;34m\u001b[0m\u001b[0;34m\u001b[0m\u001b[0m\n\u001b[1;32m   1718\u001b[0m                     \u001b[0;34mf\" ({len(locator.locs)}), usually from a call to\"\u001b[0m\u001b[0;34m\u001b[0m\u001b[0;34m\u001b[0m\u001b[0m\n",
      "\u001b[0;31mValueError\u001b[0m: The number of FixedLocator locations (2), usually from a call to set_ticks, does not match the number of ticklabels (1)."
     ]
    },
    {
     "data": {
      "image/png": "[encoded data removed]",
      "text/plain": [
       "<Figure size 432x288 with 1 Axes>"
      ]
     },
     "metadata": {
      "needs_background": "light"
     },
     "output_type": "display_data"
    }
   ],
   "source": [
    "import matplotlib.pyplot as plt\n",
    "\n",
    "box_df =[house[[\"year\",\"rent\"]].loc[house.year==yr]for yr in years]\n",
    "for each in box_df:\n",
    "    \n",
    "    ax = each[\"rent\"].plot(kind='box', title='boxplot')\n",
    "# plt.boxplot(box_df.year, box_df.rent)\n",
    "plt.xlabel('rent')\n",
    "plt.ylabel('year')\n",
    "plt.show()"
   ]
  },
  {
   "cell_type": "code",
   "execution_count": 66,
   "id": "ce5c1e31",
   "metadata": {},
   "outputs": [
    {
     "name": "stdout",
     "output_type": "stream",
     "text": [
      "[        zipcode    primarycity                     city        date    rent  \\\n",
      "0         91710          Chino            Riverside, CA  2014-01-01  1810.0   \n",
      "1         28078   Huntersville            Charlotte, NC  2014-01-01  1205.0   \n",
      "2         89074      Henderson            Las Vegas, NV  2014-01-01  1040.0   \n",
      "3         20910  Silver Spring           Washington, DC  2014-01-01  1830.0   \n",
      "4         55104     Saint Paul  Minneapolis-St Paul, MN  2014-01-01  1087.0   \n",
      "...         ...            ...                      ...         ...     ...   \n",
      "216393    21211      Baltimore            Baltimore, MD  2014-11-01  1310.0   \n",
      "216394    21076        Hanover            Baltimore, MD  2014-11-01  1882.0   \n",
      "216395    89128      Las Vegas            Las Vegas, NV  2014-12-01   948.0   \n",
      "216396    85302       Glendale              Phoenix, AZ  2014-12-01   804.0   \n",
      "216397    76119     Fort Worth    Dallas-Fort Worth, TX  2014-12-01   862.0   \n",
      "\n",
      "        latitude  longitude                 county  year  month  homevalue  \n",
      "0          34.00    -117.68  San Bernardino County  2014      1   393085.0  \n",
      "1          35.41     -80.84     Mecklenburg County  2014      1   252566.0  \n",
      "2          36.03    -115.07           Clark County  2014      1   216309.0  \n",
      "3          39.00     -77.04      Montgomery County  2014      1   541022.0  \n",
      "4          44.95     -93.16          Ramsey County  2014      1   190597.0  \n",
      "...          ...        ...                    ...   ...    ...        ...  \n",
      "216393     39.33     -76.64         Baltimore city  2014     11   197157.0  \n",
      "216394     39.16     -76.72    Anne Arundel County  2014     11   384975.0  \n",
      "216395     36.19    -115.26           Clark County  2014     12   178405.0  \n",
      "216396     33.57    -112.18        Maricopa County  2014     12   148014.0  \n",
      "216397     32.69     -97.26         Tarrant County  2014     12    67115.0  \n",
      "\n",
      "[24314 rows x 11 columns],         zipcode        primarycity              city        date    rent  \\\n",
      "60        60657            Chicago       Chicago, IL  2015-01-01  1447.0   \n",
      "61        60618            Chicago       Chicago, IL  2015-01-01  1301.0   \n",
      "62        27612            Raleigh       Raleigh, NC  2015-01-01  1002.0   \n",
      "63        89014          Henderson     Las Vegas, NV  2015-01-01   916.0   \n",
      "64        30060           Marietta       Atlanta, GA  2015-01-01   980.0   \n",
      "...         ...                ...               ...         ...     ...   \n",
      "216459    98023        Federal Way       Seattle, WA  2015-12-01  1321.0   \n",
      "216460    19130       Philadelphia  Philadelphia, PA  2015-12-01  1685.0   \n",
      "216461    95691    West Sacramento    Sacramento, CA  2015-12-01  1464.0   \n",
      "216462    60005  Arlington Heights       Chicago, IL  2015-12-01  1178.0   \n",
      "216463    33916         Fort Myers    Fort Myers, FL  2015-12-01   957.0   \n",
      "\n",
      "        latitude  longitude               county  year  month  homevalue  \n",
      "60         41.94     -87.65          Cook County  2015      1   453761.0  \n",
      "61         41.95     -87.70          Cook County  2015      1   436618.0  \n",
      "62         35.85     -78.71          Wake County  2015      1   291246.0  \n",
      "63         36.05    -115.05         Clark County  2015      1   196666.0  \n",
      "64         33.95     -84.54          Cobb County  2015      1   142582.0  \n",
      "...          ...        ...                  ...   ...    ...        ...  \n",
      "216459     47.30    -122.37          King County  2015     12   304735.0  \n",
      "216460     39.97     -75.18  Philadelphia County  2015     12   337097.0  \n",
      "216461     38.66    -121.62          Yolo County  2015     12   337083.0  \n",
      "216462     42.06     -87.99          Cook County  2015     12   331952.0  \n",
      "216463     26.63     -81.85           Lee County  2015     12   105143.0  \n",
      "\n",
      "[25841 rows x 11 columns],         zipcode  primarycity                                city        date  \\\n",
      "133       78109     Converse                     San Antonio, TX  2016-01-01   \n",
      "134        7960   Morristown                        New York, NY  2016-01-01   \n",
      "135       27560  Morrisville                         Raleigh, NC  2016-01-01   \n",
      "136       20002   Washington                      Washington, DC  2016-02-01   \n",
      "137       94565    Pittsburg                   San Francisco, CA  2016-02-01   \n",
      "...         ...          ...                                 ...         ...   \n",
      "216523    83704        Boise                      Boise City, ID  2016-12-01   \n",
      "216524    85021      Phoenix                         Phoenix, AZ  2016-12-01   \n",
      "216525     7307  Jersey City                        New York, NY  2016-12-01   \n",
      "216526    91321      Newhall  Los Angeles-Long Beach-Anaheim, CA  2016-12-01   \n",
      "216527    11542    Glen Cove                        New York, NY  2016-12-01   \n",
      "\n",
      "          rent  latitude  longitude                county  year  month  \\\n",
      "133     1120.0     29.51     -98.31          Bexar County  2016      1   \n",
      "134     2260.0     40.79     -74.47         Morris County  2016      1   \n",
      "135     1339.0     35.83     -78.83           Wake County  2016      1   \n",
      "136     2011.0     38.91     -76.98  District of Columbia  2016      2   \n",
      "137     1612.0     38.01    -121.91   Contra Costa County  2016      2   \n",
      "...        ...       ...        ...                   ...   ...    ...   \n",
      "216523   939.0     43.63    -116.28            Ada County  2016     12   \n",
      "216524   826.0     33.55    -112.09       Maricopa County  2016     12   \n",
      "216525  1793.0     40.75     -74.06         Hudson County  2016     12   \n",
      "216526  1762.0     34.36    -118.47    Los Angeles County  2016     12   \n",
      "216527  2815.0     40.86     -73.63         Nassau County  2016     12   \n",
      "\n",
      "        homevalue  \n",
      "133      155551.0  \n",
      "134      562341.0  \n",
      "135      281816.0  \n",
      "136      590889.0  \n",
      "137      504732.0  \n",
      "...           ...  \n",
      "216523   194070.0  \n",
      "216524   237015.0  \n",
      "216525   424213.0  \n",
      "216526   446368.0  \n",
      "216527   533117.0  \n",
      "\n",
      "[26359 rows x 11 columns],         zipcode        primarycity                                city  \\\n",
      "188       98052            Redmond                         Seattle, WA   \n",
      "189       76248             Keller               Dallas-Fort Worth, TX   \n",
      "190       91316             Encino  Los Angeles-Long Beach-Anaheim, CA   \n",
      "191       92011           Carlsbad                       San Diego, CA   \n",
      "192       90272  Pacific Palisades  Los Angeles-Long Beach-Anaheim, CA   \n",
      "...         ...                ...                                 ...   \n",
      "216572    92336            Fontana                       Riverside, CA   \n",
      "216573    78250        San Antonio                     San Antonio, TX   \n",
      "216574    27518               Cary                         Raleigh, NC   \n",
      "216575    98108            Seattle                         Seattle, WA   \n",
      "216576    78747             Austin                          Austin, TX   \n",
      "\n",
      "              date    rent  latitude  longitude                 county  year  \\\n",
      "188     2017-01-01  1883.0     47.68    -122.12            King County  2017   \n",
      "189     2017-01-01  1347.0     32.93     -97.22         Tarrant County  2017   \n",
      "190     2017-01-01  2403.0     34.15    -118.52     Los Angeles County  2017   \n",
      "191     2017-01-01  2545.0     33.10    -117.29       San Diego County  2017   \n",
      "192     2017-01-01  5005.0     34.07    -118.54     Los Angeles County  2017   \n",
      "...            ...     ...       ...        ...                    ...   ...   \n",
      "216572  2017-10-01  2212.0     34.14    -117.45  San Bernardino County  2017   \n",
      "216573  2017-10-01   945.0     29.50     -98.66           Bexar County  2017   \n",
      "216574  2017-10-01  1205.0     35.73     -78.77            Wake County  2017   \n",
      "216575  2017-11-01  1759.0     47.54    -122.31            King County  2017   \n",
      "216576  2017-11-01  1643.0     30.13     -97.74          Travis County  2017   \n",
      "\n",
      "        month  homevalue  \n",
      "188         1   743634.0  \n",
      "189         1   373980.0  \n",
      "190         1   664686.0  \n",
      "191         1   873464.0  \n",
      "192         1  3027285.0  \n",
      "...       ...        ...  \n",
      "216572     10   431072.0  \n",
      "216573     10   167562.0  \n",
      "216574     10   420576.0  \n",
      "216575     11   547855.0  \n",
      "216576     11   258766.0  \n",
      "\n",
      "[26740 rows x 11 columns],         zipcode      primarycity                                city  \\\n",
      "268       91801         Alhambra  Los Angeles-Long Beach-Anaheim, CA   \n",
      "269        7728         Freehold                        New York, NY   \n",
      "270       20850        Rockville                      Washington, DC   \n",
      "271       78250      San Antonio                     San Antonio, TX   \n",
      "272       33316  Fort Lauderdale           Miami-Fort Lauderdale, FL   \n",
      "...         ...              ...                                 ...   \n",
      "216603    93551         Palmdale  Los Angeles-Long Beach-Anaheim, CA   \n",
      "216604    77088          Houston                         Houston, TX   \n",
      "216605    93010        Camarillo                         Ventura, CA   \n",
      "216606    32818          Orlando                         Orlando, FL   \n",
      "216607    30252        Mcdonough                         Atlanta, GA   \n",
      "\n",
      "              date    rent  latitude  longitude              county  year  \\\n",
      "268     2018-01-01  1996.0     34.09    -118.13  Los Angeles County  2018   \n",
      "269     2018-01-01  1855.0     40.25     -74.27     Monmouth County  2018   \n",
      "270     2018-01-01  1878.0     39.08     -77.15   Montgomery County  2018   \n",
      "271     2018-01-01   945.0     29.50     -98.66        Bexar County  2018   \n",
      "272     2018-01-01  1742.0     26.10     -80.12      Broward County  2018   \n",
      "...            ...     ...       ...        ...                 ...   ...   \n",
      "216603  2018-04-01  2094.0     34.61    -118.27  Los Angeles County  2018   \n",
      "216604  2018-04-01  1372.0     29.88     -95.45       Harris County  2018   \n",
      "216605  2018-04-01  2516.0     34.23    -119.07      Ventura County  2018   \n",
      "216606  2018-04-01  1321.0     28.59     -81.49       Orange County  2018   \n",
      "216607  2018-04-01  1381.0     33.47     -84.06        Henry County  2018   \n",
      "\n",
      "        month  homevalue  \n",
      "268         1   638345.0  \n",
      "269         1   362028.0  \n",
      "270         1   566933.0  \n",
      "271         1   168874.0  \n",
      "272         1   529087.0  \n",
      "...       ...        ...  \n",
      "216603      4   398042.0  \n",
      "216604      4   134180.0  \n",
      "216605      4   629520.0  \n",
      "216606      4   200855.0  \n",
      "216607      4   222398.0  \n",
      "\n",
      "[26825 rows x 11 columns],         zipcode    primarycity                                city  \\\n",
      "328        6902       Stamford                        Stamford, CT   \n",
      "329       22202      Arlington                      Washington, DC   \n",
      "330       38128        Memphis                         Memphis, TN   \n",
      "331       30813      Grovetown                         Augusta, GA   \n",
      "332       75033         Frisco               Dallas-Fort Worth, TX   \n",
      "...         ...            ...                                 ...   \n",
      "216187    91360  Thousand Oaks                         Ventura, CA   \n",
      "216188    23503        Norfolk                  Virginia Beach, VA   \n",
      "216189    91311     Chatsworth  Los Angeles-Long Beach-Anaheim, CA   \n",
      "216190    85298        Gilbert                         Phoenix, AZ   \n",
      "216191    94301      Palo Alto                        San Jose, CA   \n",
      "\n",
      "              date    rent  latitude  longitude              county  year  \\\n",
      "328     2019-01-01  2335.0     41.06     -73.54    Fairfield County  2019   \n",
      "329     2019-01-01  2052.0     38.86     -77.05    Arlington County  2019   \n",
      "330     2019-01-01   995.0     35.22     -89.93       Shelby County  2019   \n",
      "331     2019-01-01  1196.0     33.44     -82.20     Columbia County  2019   \n",
      "332     2019-01-01  1374.0     33.14     -96.81                 NaN  2019   \n",
      "...            ...     ...       ...        ...                 ...   ...   \n",
      "216187  2019-12-01  2465.0     34.21    -118.88      Ventura County  2019   \n",
      "216188  2019-12-01  1087.0     36.95     -76.27        Norfolk city  2019   \n",
      "216189  2019-12-01  2535.0     34.28    -118.61  Los Angeles County  2019   \n",
      "216190  2019-12-01  1830.0     33.24    -111.70     Maricopa County  2019   \n",
      "216191  2019-12-01  4557.0     37.44    -122.15  Santa Clara County  2019   \n",
      "\n",
      "        month  homevalue  \n",
      "328         1   403314.0  \n",
      "329         1   689765.0  \n",
      "330         1    87501.0  \n",
      "331         1   192723.0  \n",
      "332         1   433910.0  \n",
      "...       ...        ...  \n",
      "216187     12   720249.0  \n",
      "216188     12   210286.0  \n",
      "216189     12   662838.0  \n",
      "216190     12   427673.0  \n",
      "216191     12  4023741.0  \n",
      "\n",
      "[26877 rows x 11 columns],         zipcode      primarycity                                city  \\\n",
      "405        7083            Union                        New York, NY   \n",
      "406       60126         Elmhurst                         Chicago, IL   \n",
      "407       90039      Los Angeles  Los Angeles-Long Beach-Anaheim, CA   \n",
      "408       27012         Clemmons                   Winston-Salem, NC   \n",
      "409       10006         New York                        New York, NY   \n",
      "...         ...              ...                                 ...   \n",
      "216256    33781    Pinellas Park                           Tampa, FL   \n",
      "216257    33174            Miami           Miami-Fort Lauderdale, FL   \n",
      "216258    98005         Bellevue                         Seattle, WA   \n",
      "216259    32826          Orlando                         Orlando, FL   \n",
      "216260    95605  West Sacramento                      Sacramento, CA   \n",
      "\n",
      "              date    rent  latitude  longitude              county  year  \\\n",
      "405     2020-01-01  2224.0     40.69     -74.26        Union County  2020   \n",
      "406     2020-01-01  1894.0     41.89     -87.94       DuPage County  2020   \n",
      "407     2020-01-01  2907.0     34.11    -118.26  Los Angeles County  2020   \n",
      "408     2020-01-01  1358.0     36.02     -80.38      Forsyth County  2020   \n",
      "409     2020-01-01  3407.0     40.71     -74.01     New York County  2020   \n",
      "...            ...     ...       ...        ...                 ...   ...   \n",
      "216256  2020-12-01  1449.0     27.84     -82.71     Pinellas County  2020   \n",
      "216257  2020-12-01  1881.0     25.76     -80.36   Miami-Dade County  2020   \n",
      "216258  2020-12-01  2175.0     47.62    -122.16         King County  2020   \n",
      "216259  2020-12-01  1651.0     28.59     -81.18       Orange County  2020   \n",
      "216260  2020-12-01  1985.0     38.59    -121.54         Yolo County  2020   \n",
      "\n",
      "        month  homevalue  \n",
      "405         1   354168.0  \n",
      "406         1   432226.0  \n",
      "407         1  1065315.0  \n",
      "408         1   244130.0  \n",
      "409         1   888722.0  \n",
      "...       ...        ...  \n",
      "216256     12   214988.0  \n",
      "216257     12   311186.0  \n",
      "216258     12  1277233.0  \n",
      "216259     12   264649.0  \n",
      "216260     12   338108.0  \n",
      "\n",
      "[26761 rows x 11 columns],         zipcode       primarycity                                city  \\\n",
      "479       60617           Chicago                         Chicago, IL   \n",
      "480       29445       Goose Creek                      Charleston, SC   \n",
      "481       19382      West Chester                    Philadelphia, PA   \n",
      "482       89129         Las Vegas                       Las Vegas, NV   \n",
      "483       23188      Williamsburg                  Virginia Beach, VA   \n",
      "...         ...               ...                                 ...   \n",
      "216299    89044         Henderson                       Las Vegas, NV   \n",
      "216300    76018         Arlington               Dallas-Fort Worth, TX   \n",
      "216301    33146             Miami           Miami-Fort Lauderdale, FL   \n",
      "216302    80922  Colorado Springs                Colorado Springs, CO   \n",
      "216303    91324        Northridge  Los Angeles-Long Beach-Anaheim, CA   \n",
      "\n",
      "              date    rent  latitude  longitude              county  year  \\\n",
      "479     2021-01-01  1270.0     41.72     -87.55         Cook County  2021   \n",
      "480     2021-01-01  1436.0     32.98     -79.99     Berkeley County  2021   \n",
      "481     2021-01-01  1650.0     39.95     -75.60      Chester County  2021   \n",
      "482     2021-01-01  1577.0     36.23    -115.29        Clark County  2021   \n",
      "483     2021-01-01  1499.0     37.35     -76.77   James City County  2021   \n",
      "...            ...     ...       ...        ...                 ...   ...   \n",
      "216299  2021-11-01  2308.0     35.90    -115.18        Clark County  2021   \n",
      "216300  2021-11-01  1991.0     32.67     -97.10      Tarrant County  2021   \n",
      "216301  2021-11-01  3120.0     25.72     -80.27   Miami-Dade County  2021   \n",
      "216302  2021-12-01  1903.0     38.89    -104.70      El Paso County  2021   \n",
      "216303  2021-12-01  2435.0     34.24    -118.55  Los Angeles County  2021   \n",
      "\n",
      "        month  homevalue  \n",
      "479         1   149424.0  \n",
      "480         1   220652.0  \n",
      "481         1   484781.0  \n",
      "482         1   332603.0  \n",
      "483         1   341796.0  \n",
      "...       ...        ...  \n",
      "216299     11   512048.0  \n",
      "216300     11   278184.0  \n",
      "216301     11  1226386.0  \n",
      "216302     12   454701.0  \n",
      "216303     12   874441.0  \n",
      "\n",
      "[26296 rows x 11 columns],         zipcode    primarycity                               city        date  \\\n",
      "547       78130  New Braunfels                    San Antonio, TX  2022-01-01   \n",
      "548       78613     Cedar Park                         Austin, TX  2022-01-01   \n",
      "549       30024        Suwanee                        Atlanta, GA  2022-01-01   \n",
      "550       23235       Richmond                       Richmond, VA  2022-01-01   \n",
      "551       34243       Sarasota  North Port-Sarasota-Bradenton, FL  2022-01-01   \n",
      "...         ...            ...                                ...         ...   \n",
      "216305    80205         Denver                         Denver, CO  2022-01-01   \n",
      "216306    27607        Raleigh                        Raleigh, NC  2022-01-01   \n",
      "216307    23231        Henrico                       Richmond, VA  2022-02-01   \n",
      "216308    95823     Sacramento                     Sacramento, CA  2022-03-01   \n",
      "216309    85704         Tucson                         Tucson, AZ  2022-03-01   \n",
      "\n",
      "          rent  latitude  longitude               county  year  month  \\\n",
      "547     1586.0     29.70     -98.11         Comal County  2022      1   \n",
      "548     1713.0     30.51     -97.83    Williamson County  2022      1   \n",
      "549     2060.0     34.05     -84.07      Gwinnett County  2022      1   \n",
      "550     1615.0     37.51     -77.56  Chesterfield County  2022      1   \n",
      "551     2507.0     27.40     -82.53       Manatee County  2022      1   \n",
      "...        ...       ...        ...                  ...   ...    ...   \n",
      "216305  1942.0     39.76    -104.96        Denver County  2022      1   \n",
      "216306  1608.0     35.81     -78.72          Wake County  2022      1   \n",
      "216307  1439.0     37.44     -77.32       Henrico County  2022      2   \n",
      "216308  2233.0     38.47    -121.44    Sacramento County  2022      3   \n",
      "216309  1683.0     32.33    -110.98          Pima County  2022      3   \n",
      "\n",
      "        homevalue  \n",
      "547      339578.0  \n",
      "548      587541.0  \n",
      "549      535073.0  \n",
      "550      333192.0  \n",
      "551      416486.0  \n",
      "...           ...  \n",
      "216305   665441.0  \n",
      "216306   623499.0  \n",
      "216307   276453.0  \n",
      "216308   449515.0  \n",
      "216309   438869.0  \n",
      "\n",
      "[6595 rows x 11 columns]]\n"
     ]
    }
   ],
   "source": [
    "print(box_df)"
   ]
  },
  {
   "cell_type": "code",
   "execution_count": 32,
   "id": "cf93fdbb",
   "metadata": {},
   "outputs": [],
   "source": [
    "X = house.homevalue.values.reshape(-1, 1)"
   ]
  },
  {
   "cell_type": "code",
   "execution_count": 33,
   "id": "83704498",
   "metadata": {},
   "outputs": [
    {
     "data": {
      "text/plain": [
       "array([[393085.],\n",
       "       [252566.],\n",
       "       [216309.],\n",
       "       [541022.],\n",
       "       [190597.]])"
      ]
     },
     "execution_count": 33,
     "metadata": {},
     "output_type": "execute_result"
    }
   ],
   "source": [
    "X[:5]"
   ]
  },
  {
   "cell_type": "code",
   "execution_count": 34,
   "id": "2997076e",
   "metadata": {},
   "outputs": [
    {
     "data": {
      "text/plain": [
       "(216608, 1)"
      ]
     },
     "execution_count": 34,
     "metadata": {},
     "output_type": "execute_result"
    }
   ],
   "source": [
    "X.shape"
   ]
  },
  {
   "cell_type": "code",
   "execution_count": 35,
   "id": "d44105cd",
   "metadata": {},
   "outputs": [],
   "source": [
    "y = house.rent"
   ]
  },
  {
   "cell_type": "code",
   "execution_count": 36,
   "id": "5eee52f9",
   "metadata": {},
   "outputs": [],
   "source": [
    "model = LinearRegression()"
   ]
  },
  {
   "cell_type": "code",
   "execution_count": 37,
   "id": "0d0e83cb",
   "metadata": {},
   "outputs": [
    {
     "data": {
      "text/plain": [
       "LinearRegression()"
      ]
     },
     "execution_count": 37,
     "metadata": {},
     "output_type": "execute_result"
    }
   ],
   "source": [
    "model.fit(X, y)"
   ]
  },
  {
   "cell_type": "code",
   "execution_count": 38,
   "id": "2f7f19b1",
   "metadata": {},
   "outputs": [
    {
     "name": "stdout",
     "output_type": "stream",
     "text": [
      "(216608,)\n"
     ]
    }
   ],
   "source": [
    "y_pred = model.predict(X)\n",
    "print(y_pred.shape)"
   ]
  },
  {
   "cell_type": "code",
   "execution_count": 39,
   "id": "7c6b7560",
   "metadata": {},
   "outputs": [
    {
     "data": {
      "image/png": "[encoded data removed]",
      "text/plain": [
       "<Figure size 432x288 with 1 Axes>"
      ]
     },
     "metadata": {
      "needs_background": "light"
     },
     "output_type": "display_data"
    }
   ],
   "source": [
    "plt.scatter(X, y)\n",
    "plt.plot(X, y_pred, color='red')\n",
    "plt.show()"
   ]
  },
  {
   "cell_type": "code",
   "execution_count": 30,
   "id": "f41294dc",
   "metadata": {},
   "outputs": [
    {
     "name": "stdout",
     "output_type": "stream",
     "text": [
      "[0.00149482]\n",
      "1011.8779539222144\n"
     ]
    }
   ],
   "source": [
    "print(model.coef_)\n",
    "print(model.intercept_)\n"
   ]
  },
  {
   "cell_type": "markdown",
   "id": "89c407d9",
   "metadata": {},
   "source": [
    "# Getting "
   ]
  },
  {
   "cell_type": "code",
   "execution_count": 12,
   "id": "53f0a567",
   "metadata": {},
   "outputs": [],
   "source": [
    "# Create our features\n",
    "X = house.drop(columns=[\"rent\",\"primarycity\",\"city\", \"county\",\"date\"])\n",
    "X = pd.get_dummies(X)\n",
    "\n",
    "\n",
    "# Create our target\n",
    "y = house[\"rent\"]"
   ]
  },
  {
   "cell_type": "code",
   "execution_count": 13,
   "id": "96ff2482",
   "metadata": {},
   "outputs": [
    {
     "data": {
      "text/html": [
       "<div>\n",
       "<style scoped>\n",
       "    .dataframe tbody tr th:only-of-type {\n",
       "        vertical-align: middle;\n",
       "    }\n",
       "\n",
       "    .dataframe tbody tr th {\n",
       "        vertical-align: top;\n",
       "    }\n",
       "\n",
       "    .dataframe thead th {\n",
       "        text-align: right;\n",
       "    }\n",
       "</style>\n",
       "<table border=\"1\" class=\"dataframe\">\n",
       "  <thead>\n",
       "    <tr style=\"text-align: right;\">\n",
       "      <th></th>\n",
       "      <th>zipcode</th>\n",
       "      <th>latitude</th>\n",
       "      <th>longitude</th>\n",
       "      <th>year</th>\n",
       "      <th>month</th>\n",
       "      <th>homevalue</th>\n",
       "    </tr>\n",
       "  </thead>\n",
       "  <tbody>\n",
       "    <tr>\n",
       "      <th>count</th>\n",
       "      <td>216608.000000</td>\n",
       "      <td>216608.000000</td>\n",
       "      <td>216608.000000</td>\n",
       "      <td>216608.000000</td>\n",
       "      <td>216608.000000</td>\n",
       "      <td>2.166080e+05</td>\n",
       "    </tr>\n",
       "    <tr>\n",
       "      <th>mean</th>\n",
       "      <td>54924.910830</td>\n",
       "      <td>35.505987</td>\n",
       "      <td>-94.443329</td>\n",
       "      <td>2017.683437</td>\n",
       "      <td>6.377553</td>\n",
       "      <td>4.384376e+05</td>\n",
       "    </tr>\n",
       "    <tr>\n",
       "      <th>std</th>\n",
       "      <td>30846.015989</td>\n",
       "      <td>5.351203</td>\n",
       "      <td>17.671219</td>\n",
       "      <td>2.361714</td>\n",
       "      <td>3.479039</td>\n",
       "      <td>4.043536e+05</td>\n",
       "    </tr>\n",
       "    <tr>\n",
       "      <th>min</th>\n",
       "      <td>1604.000000</td>\n",
       "      <td>21.270000</td>\n",
       "      <td>-158.080000</td>\n",
       "      <td>2014.000000</td>\n",
       "      <td>1.000000</td>\n",
       "      <td>1.943100e+04</td>\n",
       "    </tr>\n",
       "    <tr>\n",
       "      <th>25%</th>\n",
       "      <td>30022.000000</td>\n",
       "      <td>32.790000</td>\n",
       "      <td>-112.310000</td>\n",
       "      <td>2016.000000</td>\n",
       "      <td>3.000000</td>\n",
       "      <td>2.112858e+05</td>\n",
       "    </tr>\n",
       "    <tr>\n",
       "      <th>50%</th>\n",
       "      <td>48326.000000</td>\n",
       "      <td>34.300000</td>\n",
       "      <td>-87.620000</td>\n",
       "      <td>2018.000000</td>\n",
       "      <td>6.000000</td>\n",
       "      <td>3.163100e+05</td>\n",
       "    </tr>\n",
       "    <tr>\n",
       "      <th>75%</th>\n",
       "      <td>85653.000000</td>\n",
       "      <td>39.690000</td>\n",
       "      <td>-80.200000</td>\n",
       "      <td>2020.000000</td>\n",
       "      <td>9.000000</td>\n",
       "      <td>5.126048e+05</td>\n",
       "    </tr>\n",
       "    <tr>\n",
       "      <th>max</th>\n",
       "      <td>99206.000000</td>\n",
       "      <td>48.180000</td>\n",
       "      <td>-70.660000</td>\n",
       "      <td>2022.000000</td>\n",
       "      <td>12.000000</td>\n",
       "      <td>5.990842e+06</td>\n",
       "    </tr>\n",
       "  </tbody>\n",
       "</table>\n",
       "</div>"
      ],
      "text/plain": [
       "             zipcode       latitude      longitude           year  \\\n",
       "count  216608.000000  216608.000000  216608.000000  216608.000000   \n",
       "mean    54924.910830      35.505987     -94.443329    2017.683437   \n",
       "std     30846.015989       5.351203      17.671219       2.361714   \n",
       "min      1604.000000      21.270000    -158.080000    2014.000000   \n",
       "25%     30022.000000      32.790000    -112.310000    2016.000000   \n",
       "50%     48326.000000      34.300000     -87.620000    2018.000000   \n",
       "75%     85653.000000      39.690000     -80.200000    2020.000000   \n",
       "max     99206.000000      48.180000     -70.660000    2022.000000   \n",
       "\n",
       "               month     homevalue  \n",
       "count  216608.000000  2.166080e+05  \n",
       "mean        6.377553  4.384376e+05  \n",
       "std         3.479039  4.043536e+05  \n",
       "min         1.000000  1.943100e+04  \n",
       "25%         3.000000  2.112858e+05  \n",
       "50%         6.000000  3.163100e+05  \n",
       "75%         9.000000  5.126048e+05  \n",
       "max        12.000000  5.990842e+06  "
      ]
     },
     "execution_count": 13,
     "metadata": {},
     "output_type": "execute_result"
    }
   ],
   "source": [
    "X.describe()"
   ]
  },
  {
   "cell_type": "code",
   "execution_count": 14,
   "id": "67719dc0",
   "metadata": {},
   "outputs": [],
   "source": [
    "from sklearn.model_selection import train_test_split\n",
    "X_train,X_test,y_train,y_test = train_test_split(X,y,test_size=.25, random_state=12,)"
   ]
  },
  {
   "cell_type": "code",
   "execution_count": 16,
   "id": "4da514d1",
   "metadata": {},
   "outputs": [
    {
     "data": {
      "text/plain": [
       "LogisticRegression(random_state=1)"
      ]
     },
     "execution_count": 16,
     "metadata": {},
     "output_type": "execute_result"
    }
   ],
   "source": [
    "# Train the Logistic Regression model using the resampled data\n",
    "from sklearn.linear_model import LogisticRegression\n",
    "log_reg = LogisticRegression(solver='lbfgs', random_state=1)\n",
    "log_reg\n"
   ]
  },
  {
   "cell_type": "code",
   "execution_count": null,
   "id": "1451a409",
   "metadata": {},
   "outputs": [],
   "source": [
    "log_reg.fit(X_train, y_train)"
   ]
  },
  {
   "cell_type": "code",
   "execution_count": null,
   "id": "94b4bc44",
   "metadata": {},
   "outputs": [],
   "source": [
    "# Calculated the balanced accuracy score\n",
    "y_pred =log_reg.predict(X_test)\n",
    "\n",
    "from sklearn.metrics import accuracy_score\n",
    "print(accuracy_score(y_test, y_pred))"
   ]
  },
  {
   "cell_type": "code",
   "execution_count": null,
   "id": "41fcda8f",
   "metadata": {},
   "outputs": [],
   "source": [
    "# Display the confusion matrix\n",
    "\n",
    "confusion_matrix(y_test, y_pred)"
   ]
  },
  {
   "cell_type": "code",
   "execution_count": null,
   "id": "8e54b696",
   "metadata": {},
   "outputs": [],
   "source": [
    "# Print the imbalanced classification report\n",
    "from imblearn.metrics import classification_report_imbalanced\n",
    "print(classification_report_imbalanced(y_test, y_pred))"
   ]
  },
  {
   "cell_type": "markdown",
   "id": "c80ad1f5",
   "metadata": {},
   "source": [
    "# OVERSAMPING "
   ]
  },
  {
   "cell_type": "code",
   "execution_count": null,
   "id": "17cc4211",
   "metadata": {},
   "outputs": [],
   "source": [
    "from sklearn.model_selection import train_test_split\n",
    "X_train,X_test,y_train,y_test=train_test_split(X,y,test_size=.25, random_state=12)\n",
    "X_train.shape"
   ]
  },
  {
   "cell_type": "code",
   "execution_count": null,
   "id": "76944aeb",
   "metadata": {},
   "outputs": [],
   "source": [
    "# Resample the training data with the RandomOversampler\n",
    "from imblearn.over_sampling import RandomOverSampler\n",
    "ros = RandomOverSampler(random_state=12)\n",
    "X_resampled, y_resampled = ros.fit_resample(X_train, y_train)"
   ]
  },
  {
   "cell_type": "code",
   "execution_count": null,
   "id": "872d6946",
   "metadata": {},
   "outputs": [],
   "source": [
    "# Train the Logistic Regression model using the resampled data\n",
    "from sklearn.linear_model import LogisticRegression\n",
    "log_reg = LogisticRegression(solver='lbfgs', random_state=1)\n",
    "log_reg.fit(X_resampled, y_resampled)"
   ]
  },
  {
   "cell_type": "code",
   "execution_count": null,
   "id": "bf545233",
   "metadata": {},
   "outputs": [],
   "source": [
    "# Calculated the balanced accuracy score\n",
    "y_pred =log_reg.predict(X_test)\n",
    "\n",
    "from sklearn.metrics import accuracy_score\n",
    "accuracy_score(y_test, y_pred)"
   ]
  },
  {
   "cell_type": "code",
   "execution_count": null,
   "id": "7defb759",
   "metadata": {},
   "outputs": [],
   "source": [
    "\n",
    "# Display the confusion matrix\n",
    "\n",
    "confusion_matrix(y_test, y_pred)"
   ]
  }
 ],
 "metadata": {
  "kernelspec": {
   "display_name": "pythonData",
   "language": "python",
   "name": "pythondata"
  },
  "language_info": {
   "codemirror_mode": {
    "name": "ipython",
    "version": 3
   },
   "file_extension": ".py",
   "mimetype": "text/x-python",
   "name": "python",
   "nbconvert_exporter": "python",
   "pygments_lexer": "ipython3",
   "version": "3.9.7"
  }
 },
 "nbformat": 4,
 "nbformat_minor": 5
}
